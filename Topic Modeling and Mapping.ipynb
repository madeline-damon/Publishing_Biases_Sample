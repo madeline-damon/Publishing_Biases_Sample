{
 "cells": [
  {
   "cell_type": "markdown",
   "metadata": {},
   "source": [
    "## LDA Topic Modeling and Mapping Topics\n",
    "\n",
    "The goal is to complete topic modeling on my small sample of abstracts and explore how I can work towards mapping topics across the world"
   ]
  },
  {
   "cell_type": "code",
   "execution_count": 24,
   "metadata": {},
   "outputs": [],
   "source": [
    "import pandas as pd\n",
    "\n",
    "from nltk.corpus import brown\n",
    "from nltk.corpus import stopwords\n",
    "\n",
    "import numpy as np\n",
    "import pandas as pd\n",
    "\n",
    "import gensim\n",
    "import gensim.corpora as corpora\n",
    "from gensim.utils import simple_preprocess\n",
    "from gensim.models import CoherenceModel\n",
    "from gensim.models import LdaModel\n",
    "from gensim.corpora import Dictionary\n",
    "\n",
    "from gensim.models.ldamulticore import LdaMulticore\n",
    "from tqdm import trange, notebook\n",
    "\n",
    "import pyLDAvis\n",
    "import pyLDAvis.gensim\n",
    "\n",
    "import spacy\n",
    "from spacy.lemmatizer import Lemmatizer\n",
    "from spacy.lang.en.stop_words import STOP_WORDS\n",
    "\n",
    "from pprint import pprint\n",
    "from collections import Counter, defaultdict\n",
    "\n",
    "nlp = spacy.load('en_core_web_sm')\n",
    "sw = stopwords.words(\"english\")"
   ]
  },
  {
   "cell_type": "code",
   "execution_count": 25,
   "metadata": {},
   "outputs": [
    {
     "data": {
      "text/html": [
       "<div>\n",
       "<style scoped>\n",
       "    .dataframe tbody tr th:only-of-type {\n",
       "        vertical-align: middle;\n",
       "    }\n",
       "\n",
       "    .dataframe tbody tr th {\n",
       "        vertical-align: top;\n",
       "    }\n",
       "\n",
       "    .dataframe thead th {\n",
       "        text-align: right;\n",
       "    }\n",
       "</style>\n",
       "<table border=\"1\" class=\"dataframe\">\n",
       "  <thead>\n",
       "    <tr style=\"text-align: right;\">\n",
       "      <th></th>\n",
       "      <th>Article Title</th>\n",
       "      <th>Source Title</th>\n",
       "      <th>Author Keywords</th>\n",
       "      <th>Abstract</th>\n",
       "      <th>Addresses</th>\n",
       "      <th>Times Cited, All Databases</th>\n",
       "      <th>First_A</th>\n",
       "    </tr>\n",
       "  </thead>\n",
       "  <tbody>\n",
       "    <tr>\n",
       "      <td>0</td>\n",
       "      <td>Land enrolled in the Conservation Reserve Prog...</td>\n",
       "      <td>GLOBAL ECOLOGY AND CONSERVATION</td>\n",
       "      <td>Conservation Reserve Program; Discrete choice ...</td>\n",
       "      <td>All animals must select sites to rest and may ...</td>\n",
       "      <td>[Tanner, Evan P.; Tanner, Ashley M.] Texas A&amp;M...</td>\n",
       "      <td>0</td>\n",
       "      <td>USA</td>\n",
       "    </tr>\n",
       "    <tr>\n",
       "      <td>1</td>\n",
       "      <td>Fish Biodiversity Conservation and Restoration...</td>\n",
       "      <td>WATER</td>\n",
       "      <td>conservation; ecological integrity; fish biodi...</td>\n",
       "      <td>Although many significant policies and legisla...</td>\n",
       "      <td>[Li, Jianhua] Tongji Univ, Key Lab Yangtze Wat...</td>\n",
       "      <td>2</td>\n",
       "      <td>Peoples R China</td>\n",
       "    </tr>\n",
       "    <tr>\n",
       "      <td>2</td>\n",
       "      <td>Operationalizing ecological connectivity in sp...</td>\n",
       "      <td>METHODS IN ECOLOGY AND EVOLUTION</td>\n",
       "      <td>decision support software; demographic; ecolog...</td>\n",
       "      <td>Globally, protected areas are being establishe...</td>\n",
       "      <td>[Daigle, Remi M.; Metaxas, Anna; Balbar, Ariea...</td>\n",
       "      <td>25</td>\n",
       "      <td>Canada</td>\n",
       "    </tr>\n",
       "    <tr>\n",
       "      <td>3</td>\n",
       "      <td>Spatial conservation planning with ecological ...</td>\n",
       "      <td>BIOLOGICAL CONSERVATION</td>\n",
       "      <td>Conservation feedbacks; Dynamic spatial priori...</td>\n",
       "      <td>Most spatial conservation prioritisations bein...</td>\n",
       "      <td>[Larrosa, Cecilia; Carrasco, Luis R.] Natl Uni...</td>\n",
       "      <td>2</td>\n",
       "      <td>Singapore</td>\n",
       "    </tr>\n",
       "    <tr>\n",
       "      <td>4</td>\n",
       "      <td>A landscape index of ecological integrity to i...</td>\n",
       "      <td>LANDSCAPE ECOLOGY</td>\n",
       "      <td>Landscape pattern; Landscape metrics; Ecologic...</td>\n",
       "      <td>Conservation planning is increasingly using co...</td>\n",
       "      <td>[McGarigal, Kevin; Compton, Bradley W.; Plunke...</td>\n",
       "      <td>16</td>\n",
       "      <td>USA</td>\n",
       "    </tr>\n",
       "    <tr>\n",
       "      <td>...</td>\n",
       "      <td>...</td>\n",
       "      <td>...</td>\n",
       "      <td>...</td>\n",
       "      <td>...</td>\n",
       "      <td>...</td>\n",
       "      <td>...</td>\n",
       "      <td>...</td>\n",
       "    </tr>\n",
       "    <tr>\n",
       "      <td>995</td>\n",
       "      <td>Disturbance Ecology in the Anthropocene</td>\n",
       "      <td>FRONTIERS IN ECOLOGY AND EVOLUTION</td>\n",
       "      <td>anthropogenic change; disturbance ecology; dis...</td>\n",
       "      <td>With the accumulating evidence of changing dis...</td>\n",
       "      <td>[Newman, Erica A.] Univ Arizona, Dept Ecol &amp; E...</td>\n",
       "      <td>34</td>\n",
       "      <td>USA</td>\n",
       "    </tr>\n",
       "    <tr>\n",
       "      <td>996</td>\n",
       "      <td>Integrating socio-ecological dynamics into lan...</td>\n",
       "      <td>LAND USE POLICY</td>\n",
       "      <td>Tree farms; Socio-Ecological; Dyna-CLUE; InVES...</td>\n",
       "      <td>Chile is one of the first documented nations t...</td>\n",
       "      <td>[Manuschevich, Daniela] Univ Acad Humanismo Cr...</td>\n",
       "      <td>8</td>\n",
       "      <td>Chile</td>\n",
       "    </tr>\n",
       "    <tr>\n",
       "      <td>997</td>\n",
       "      <td>Persistence through tough times: fixed and shi...</td>\n",
       "      <td>BIODIVERSITY AND CONSERVATION</td>\n",
       "      <td>Endangered species; Biodiversity conservation;...</td>\n",
       "      <td>It may be possible to avert threatened species...</td>\n",
       "      <td>[Reside, April E.; Fisher, Diana O.] Univ Quee...</td>\n",
       "      <td>23</td>\n",
       "      <td>Australia</td>\n",
       "    </tr>\n",
       "    <tr>\n",
       "      <td>998</td>\n",
       "      <td>Can local ecological knowledge provide meaning...</td>\n",
       "      <td>OCEAN &amp; COASTAL MANAGEMENT</td>\n",
       "      <td>Hainan; Indo-Pacific humpback dolphin; Questio...</td>\n",
       "      <td>Identifying and evaluating potentially suitabl...</td>\n",
       "      <td>[Lin, Mingli; Xing, Luru; Fang, Liang; Li, Son...</td>\n",
       "      <td>11</td>\n",
       "      <td>Peoples R China</td>\n",
       "    </tr>\n",
       "    <tr>\n",
       "      <td>999</td>\n",
       "      <td>Shifts in habitat suitability and the conserva...</td>\n",
       "      <td>ORYX</td>\n",
       "      <td>Andes; conservation planning; climate change; ...</td>\n",
       "      <td>Organisms adapted to life at high elevations a...</td>\n",
       "      <td>[Bennett, Magdalena; Sillero-Zubiri, Claudio; ...</td>\n",
       "      <td>5</td>\n",
       "      <td>England</td>\n",
       "    </tr>\n",
       "  </tbody>\n",
       "</table>\n",
       "<p>1000 rows × 7 columns</p>\n",
       "</div>"
      ],
      "text/plain": [
       "                                         Article Title  \\\n",
       "0    Land enrolled in the Conservation Reserve Prog...   \n",
       "1    Fish Biodiversity Conservation and Restoration...   \n",
       "2    Operationalizing ecological connectivity in sp...   \n",
       "3    Spatial conservation planning with ecological ...   \n",
       "4    A landscape index of ecological integrity to i...   \n",
       "..                                                 ...   \n",
       "995            Disturbance Ecology in the Anthropocene   \n",
       "996  Integrating socio-ecological dynamics into lan...   \n",
       "997  Persistence through tough times: fixed and shi...   \n",
       "998  Can local ecological knowledge provide meaning...   \n",
       "999  Shifts in habitat suitability and the conserva...   \n",
       "\n",
       "                           Source Title  \\\n",
       "0       GLOBAL ECOLOGY AND CONSERVATION   \n",
       "1                                 WATER   \n",
       "2      METHODS IN ECOLOGY AND EVOLUTION   \n",
       "3               BIOLOGICAL CONSERVATION   \n",
       "4                     LANDSCAPE ECOLOGY   \n",
       "..                                  ...   \n",
       "995  FRONTIERS IN ECOLOGY AND EVOLUTION   \n",
       "996                     LAND USE POLICY   \n",
       "997       BIODIVERSITY AND CONSERVATION   \n",
       "998          OCEAN & COASTAL MANAGEMENT   \n",
       "999                                ORYX   \n",
       "\n",
       "                                       Author Keywords  \\\n",
       "0    Conservation Reserve Program; Discrete choice ...   \n",
       "1    conservation; ecological integrity; fish biodi...   \n",
       "2    decision support software; demographic; ecolog...   \n",
       "3    Conservation feedbacks; Dynamic spatial priori...   \n",
       "4    Landscape pattern; Landscape metrics; Ecologic...   \n",
       "..                                                 ...   \n",
       "995  anthropogenic change; disturbance ecology; dis...   \n",
       "996  Tree farms; Socio-Ecological; Dyna-CLUE; InVES...   \n",
       "997  Endangered species; Biodiversity conservation;...   \n",
       "998  Hainan; Indo-Pacific humpback dolphin; Questio...   \n",
       "999  Andes; conservation planning; climate change; ...   \n",
       "\n",
       "                                              Abstract  \\\n",
       "0    All animals must select sites to rest and may ...   \n",
       "1    Although many significant policies and legisla...   \n",
       "2    Globally, protected areas are being establishe...   \n",
       "3    Most spatial conservation prioritisations bein...   \n",
       "4    Conservation planning is increasingly using co...   \n",
       "..                                                 ...   \n",
       "995  With the accumulating evidence of changing dis...   \n",
       "996  Chile is one of the first documented nations t...   \n",
       "997  It may be possible to avert threatened species...   \n",
       "998  Identifying and evaluating potentially suitabl...   \n",
       "999  Organisms adapted to life at high elevations a...   \n",
       "\n",
       "                                             Addresses  \\\n",
       "0    [Tanner, Evan P.; Tanner, Ashley M.] Texas A&M...   \n",
       "1    [Li, Jianhua] Tongji Univ, Key Lab Yangtze Wat...   \n",
       "2    [Daigle, Remi M.; Metaxas, Anna; Balbar, Ariea...   \n",
       "3    [Larrosa, Cecilia; Carrasco, Luis R.] Natl Uni...   \n",
       "4    [McGarigal, Kevin; Compton, Bradley W.; Plunke...   \n",
       "..                                                 ...   \n",
       "995  [Newman, Erica A.] Univ Arizona, Dept Ecol & E...   \n",
       "996  [Manuschevich, Daniela] Univ Acad Humanismo Cr...   \n",
       "997  [Reside, April E.; Fisher, Diana O.] Univ Quee...   \n",
       "998  [Lin, Mingli; Xing, Luru; Fang, Liang; Li, Son...   \n",
       "999  [Bennett, Magdalena; Sillero-Zubiri, Claudio; ...   \n",
       "\n",
       "     Times Cited, All Databases          First_A  \n",
       "0                             0              USA  \n",
       "1                             2  Peoples R China  \n",
       "2                            25           Canada  \n",
       "3                             2        Singapore  \n",
       "4                            16              USA  \n",
       "..                          ...              ...  \n",
       "995                          34              USA  \n",
       "996                           8            Chile  \n",
       "997                          23        Australia  \n",
       "998                          11  Peoples R China  \n",
       "999                           5          England  \n",
       "\n",
       "[1000 rows x 7 columns]"
      ]
     },
     "execution_count": 25,
     "metadata": {},
     "output_type": "execute_result"
    }
   ],
   "source": [
    "##Loading data\n",
    "data=pd.read_csv(\"WoS_Data.csv\")\n",
    "data"
   ]
  },
  {
   "cell_type": "code",
   "execution_count": 32,
   "metadata": {},
   "outputs": [
    {
     "data": {
      "text/plain": [
       "1000"
      ]
     },
     "execution_count": 32,
     "metadata": {},
     "output_type": "execute_result"
    }
   ],
   "source": [
    "# # Define functions for stopwords, bigrams, trigrams and lemmatization\n",
    "def remove_stopwords(texts):\n",
    "     return [[word for word in simple_preprocess(str(doc)) if word not in sw] for doc in texts]\n",
    "\n",
    "def make_bigrams(texts):\n",
    "    return [bigram_mod[doc] for doc in texts]\n",
    "\n",
    "def make_trigrams(texts):\n",
    "    return [trigram_mod[bigram_mod[doc]] for doc in texts]\n",
    "\n",
    "def lemmatization(texts, allowed_postags=['NOUN', 'ADJ', 'VERB', 'ADV']):\n",
    "    \"\"\"https://spacy.io/api/annotation\"\"\"\n",
    "    texts_out = []\n",
    "    for sent in texts:\n",
    "        doc = nlp(\" \".join(sent)) \n",
    "        texts_out.append([token.lemma_ for token in doc if token.pos_ in allowed_postags])\n",
    "    return texts_out\n",
    "\n",
    "def sent_to_words(sentences):\n",
    "    for sentence in sentences:\n",
    "        yield(gensim.utils.simple_preprocess(str(sentence), deacc=True))  # deacc=True removes punctuations\n",
    "\n",
    "\n",
    "def display_topics(model, features, no_top_words=5):\n",
    "    for topic, word_vector in enumerate(model.components_):\n",
    "        total = word_vector.sum()\n",
    "        largest = word_vector.argsort()[::-1] # invert sort order\n",
    "        print(\"\\nTopic %02d\" % topic)\n",
    "        for i in range(0, no_top_words):\n",
    "            print(\" %s (%2.2f)\" % (features[largest[i]],\n",
    "                                   word_vector[largest[i]]*100.0/total))\n",
    "\n"
   ]
  },
  {
   "cell_type": "code",
   "execution_count": 31,
   "metadata": {},
   "outputs": [
    {
     "data": {
      "text/plain": [
       "'Although many significant policies and legislation have been put forth by the Chinese government aiming toward ecological civilization for the aquatic environment, in practice, the situation is still undesirable. A pioneering multi-year study has since been conducted on the East Tiaoxi River (a major tributary of the renowned Yangtze River), focusing on fish distribution, influencing factors and habitat requirements, and river health as well. This revealed certain key species, hotspot protection areas, negative impacts of local anthropogenic activities, and inappropriate perceptions and practices of conservation and restoration. We found that not all fish species were equally conserved and that the supposedly ecological engineering measures were initiated without regard for ecological integrity. Our exemplary study appreciates scientific basis and truly ecological notion, and urgently advocates comprehensive and continuous basin-scale scientific investigation of fish biodiversity, and ecological river-oriented conservation and restoration action for the Yangtze River Basin and broader areas of China.'"
      ]
     },
     "execution_count": 31,
     "metadata": {},
     "output_type": "execute_result"
    }
   ],
   "source": [
    "abstract=data['Abstract']\n",
    "\n",
    "word_dat=[] ##creating a list to store string of data\n",
    "\n",
    "for item in abstract:  #Make everything in the column  a string of text\n",
    "    string=str(item)\n",
    "    word_dat.append(string)\n",
    "    \n",
    "len(word_dat)   \n",
    "word_dat[1]"
   ]
  },
  {
   "cell_type": "code",
   "execution_count": null,
   "metadata": {},
   "outputs": [],
   "source": [
    "data_words = list(sent_to_words(word_dat))\n",
    "\n",
    "len(data_words)"
   ]
  },
  {
   "cell_type": "markdown",
   "metadata": {},
   "source": [
    "# Topic Modeling"
   ]
  },
  {
   "cell_type": "code",
   "execution_count": 33,
   "metadata": {},
   "outputs": [
    {
     "name": "stdout",
     "output_type": "stream",
     "text": [
      "['all', 'animals', 'must', 'select', 'sites', 'to', 'rest', 'and', 'may', 'spend', 'large', 'portion', 'of', 'their', 'lives', 'doing_so', 'despite', 'the', 'importance', 'of', 'this', 'period', 'in', 'their', 'daily', 'activity', 'budget', 'we', 'lack', 'information', 'about', 'rest', 'roost', 'ecology', 'for', 'most', 'animals', 'including', 'the', 'imperiled', 'lesser_prairie_chicken', 'tympanuchus', 'pallidicinctus', 'hereafter', 'lepc', 'therefore', 'we', 'sought', 'to', 'identify', 'how', 'landcover', 'anthropogenic', 'features', 'and', 'human', 'policy', 'presence', 'of', 'the', 'conservation', 'reserve', 'program', 'crp', 'influenced', 'roost', 'site_selection', 'and', 'movement', 'patterns', 'of', 'the', 'lepc', 'from', 'march', 'to', 'may', 'we', 'captured', 'and', 'fitted', 'gps', 'transmitters', 'to', 'lepcs', 'males', 'females', 'within', 'beaver', 'county', 'oklahoma', 'and', 'recorded', 'two', 'nocturnal', 'locations', 'per', 'hour', 'period', 'annually', 'we', 'used', 'discrete', 'choice', 'models', 'and', 'generalized_linear', 'mixed', 'effects', 'models', 'to', 'determine', 'how', 'vegetation', 'cover', 'crp', 'patches', 'and', 'anthropogenic', 'features', 'influenced', 'roost', 'site_selection', 'and', 'movements', 'to', 'roosting', 'sites', 'respectively', 'we', 'found', 'that', 'roost', 'sites', 'were', 'closer', 'to', 'crp', 'leks', 'and', 'croplands', 'than', 'would', 'be', 'expected', 'at', 'random', 'conversely', 'roost', 'sites', 'were', 'located', 'farther', 'away', 'from', 'shortgrass', 'prairie', 'roads', 'and', 'transmission', 'lines', 'than', 'expected', 'the', 'probability', 'of', 'lepc', 'roosting', 'in', 'location', 'increased', 'by', 'and', 'for', 'every', 'meter', 'decrease', 'in', 'distance', 'to', 'crp', 'patch', 'and', 'distance', 'to', 'their', 'lek', 'of', 'capture', 'respectively', 'similarly', 'individuals', 'roosting', 'in', 'crp', 'patches', 'would', 'travel', 'shorter', 'distances', 'to', 'get', 'to', 'roost', 'sites', 'if', 'their', 'last', 'diurnal', 'location', 'was', 'near', 'crp', 'bird', 'movements', 'to', 'roosts', 'in', 'crp', 'were', 'times', 'shorter', 'for', 'every', 'meter', 'decrease', 'in', 'the', 'distance', 'of', 'their', 'last', 'diurnal', 'location', 'to', 'crp', 'patch', 'indicating', 'that', 'individuals', 'modify', 'their', 'movement', 'based', 'on', 'crp', 'presence', 'our', 'results', 'indicate', 'that', 'crp', 'is', 'influential', 'to', 'roosting', 'ecology', 'of', 'the', 'lepc', 'within', 'this', 'region', 'and', 'may', 'be', 'meeting', 'critical', 'cover', 'requirements']\n"
     ]
    }
   ],
   "source": [
    "## Working with bigrams and trigrams\n",
    "\n",
    "bigram2 = gensim.models.Phrases(data_words, min_count=5,threshold=100)\n",
    "trigram = gensim.models.Phrases(bigram2[data_words],threshold=100)\n",
    "\n",
    "bigram_mod= gensim.models.phrases.Phraser(bigram2)\n",
    "\n",
    "trigram_mod=gensim.models.phrases.Phraser(trigram)\n",
    "\n",
    " #trigram example\n",
    "print(trigram_mod[bigram_mod[data_words[0]]])"
   ]
  },
  {
   "cell_type": "code",
   "execution_count": 34,
   "metadata": {},
   "outputs": [],
   "source": [
    "# Remove Stop Words\n",
    "data_words_nostops = remove_stopwords(data_words)\n",
    "\n",
    "# Form Bigrams\n",
    "data_words_bigrams = make_bigrams(data_words_nostops)\n",
    "\n",
    "\n",
    "#data_words_bigrams[0]"
   ]
  },
  {
   "cell_type": "code",
   "execution_count": 35,
   "metadata": {},
   "outputs": [
    {
     "name": "stdout",
     "output_type": "stream",
     "text": [
      "['animal', 'must', 'select', 'site', 'rest', 'may', 'spend', 'large', 'portion', 'life', 'importance', 'period', 'daily', 'activity', 'budget', 'lack', 'information', 'rest', 'roost', 'ecology', 'animal', 'include', 'imperil', 'chicken', 'pallidicinctus', 'hereafter', 'lepc', 'therefore', 'seek', 'identify', 'landcover', 'feature', 'human', 'policy', 'presence', 'conservation', 'reserve', 'program', 'roost', 'movement', 'pattern', 'lepc', 'may', 'capture', 'fit', 'transmitter', 'male', 'female', 'record', 'nocturnal', 'location', 'hour', 'period', 'annually', 'use', 'discrete', 'choice', 'model', 'generalized_linear', 'mixed', 'effect', 'model', 'determine', 'cover', 'patch', 'feature', 'influence', 'roost', 'movement', 'roosting', 'site', 'respectively', 'find', 'roost', 'site', 'close', 'crp', 'cropland', 'would', 'expect', 'random', 'conversely', 'roost', 'site', 'locate', 'farther', 'away', 'shortgrass', 'prairie', 'road', 'transmission', 'line', 'expect', 'probability', 'lepc', 'roosting', 'location', 'increase', 'meter', 'decrease', 'distance', 'respectively', 'similarly', 'individual', 'roost', 'crp', 'patch', 'would', 'travel', 'short', 'distance', 'get', 'roost', 'site', 'last', 'diurnal', 'location', 'roost', 'time', 'short', 'meter', 'decrease', 'distance', 'last', 'diurnal', 'location', 'crp', 'patch', 'indicating', 'individual', 'modify', 'movement', 'base', 'presence', 'result', 'indicate', 'crp', 'influential', 'roosting', 'ecology', 'lepc', 'region', 'may', 'meet', 'critical', 'cover', 'requirement']\n"
     ]
    }
   ],
   "source": [
    "# # Do lemmatization keeping only noun, adj, vb, adv\n",
    "data_lemmatized = lemmatization(data_words_bigrams, allowed_postags=['NOUN', 'ADJ', 'VERB', 'ADV'])\n",
    "\n",
    "\n",
    "print(data_lemmatized[0])"
   ]
  },
  {
   "cell_type": "code",
   "execution_count": 36,
   "metadata": {},
   "outputs": [],
   "source": [
    "dict_gensim_abs = Dictionary(data_lemmatized)"
   ]
  },
  {
   "cell_type": "code",
   "execution_count": 37,
   "metadata": {},
   "outputs": [],
   "source": [
    "#words must appear in at least 5 documents and no more than 80%\n",
    "dict_gensim_abs.filter_extremes(no_below=5, no_above=0.7)"
   ]
  },
  {
   "cell_type": "code",
   "execution_count": 38,
   "metadata": {},
   "outputs": [],
   "source": [
    "#Calculates bag of words matrix\n",
    "bow_gensim_abs = [dict_gensim_abs.doc2bow(w) \\\n",
    "                   for w in data_lemmatized]"
   ]
  },
  {
   "cell_type": "code",
   "execution_count": 39,
   "metadata": {},
   "outputs": [],
   "source": [
    "#TF-IDF transformation\n",
    "from gensim.models import TfidfModel\n",
    "tfidf_gensim_abs = TfidfModel(bow_gensim_abs)\n",
    "vectors_gensim_abs = tfidf_gensim_abs[bow_gensim_abs]"
   ]
  },
  {
   "cell_type": "markdown",
   "metadata": {},
   "source": [
    "## Identifying Optimal Number of Topics"
   ]
  },
  {
   "cell_type": "code",
   "execution_count": null,
   "metadata": {},
   "outputs": [],
   "source": [
    "##Coherence for topics 3 through 14\n",
    "\n",
    "lda_para_model_n = []\n",
    "for n in trange(3, 14):\n",
    "    lda_model = LdaMulticore(corpus=bow_gensim_abs, id2word=dict_gensim_abs,\n",
    "                             chunksize=2000, eta='auto', iterations=400,\n",
    "                             num_topics=n, passes=100, eval_every=None,\n",
    "                             random_state=42)\n",
    "    lda_coherence = CoherenceModel(model=lda_model, texts=data_lemmatized,\n",
    "                                   dictionary=dict_gensim_abs, coherence='c_v')\n",
    "    lda_para_model_n.append((n, lda_model, lda_coherence.get_coherence()))"
   ]
  },
  {
   "cell_type": "code",
   "execution_count": null,
   "metadata": {},
   "outputs": [],
   "source": [
    "pd.DataFrame(lda_para_model_n, columns=[\"n\", \"model\", \\\n",
    "\"coherence\"]).set_index(\"n\")[[\"coherence\"]].plot(figsize=(16,9))"
   ]
  },
  {
   "cell_type": "markdown",
   "metadata": {},
   "source": [
    "Since there are peaks at 7 topics and 12 topics, I will be visualizing both of these to see more about the differences and similarities between them"
   ]
  },
  {
   "cell_type": "markdown",
   "metadata": {},
   "source": [
    "## Visualizing at 7 and 12 topics"
   ]
  },
  {
   "cell_type": "code",
   "execution_count": 40,
   "metadata": {},
   "outputs": [],
   "source": [
    "lda_7_topics= LdaModel(corpus=bow_gensim_abs, id2word=dict_gensim_abs,\n",
    "                       chunksize=2000, alpha='auto', eta='auto', iterations=400, num_topics=7,\n",
    "                       passes=100, eval_every=None, random_state=42)\n",
    "lda_12_topics= LdaModel(corpus=bow_gensim_abs, id2word=dict_gensim_abs,\n",
    "                       chunksize=2000, alpha='auto', eta='auto', iterations=400, num_topics=12,\n",
    "                       passes=100, eval_every=None, random_state=42)"
   ]
  },
  {
   "cell_type": "code",
   "execution_count": null,
   "metadata": {},
   "outputs": [],
   "source": [
    "lda_7_topics.show_topics()"
   ]
  },
  {
   "cell_type": "code",
   "execution_count": null,
   "metadata": {},
   "outputs": [],
   "source": [
    "lda_12_topics.show_topics()"
   ]
  },
  {
   "cell_type": "code",
   "execution_count": null,
   "metadata": {},
   "outputs": [],
   "source": [
    "## Topic Wordclouds\n",
    "\n",
    "import matplotlib.pyplot as plt\n",
    "from wordcloud import WordCloud\n",
    "from sklearn.feature_extraction.text import CountVectorizer\n",
    "count_para_vectorizer = CountVectorizer(stop_words=stopwords, min_df=5,\n",
    "max_df=0.7)\n",
    "def wordcloud_topics(model, features, no_top_words=40):\n",
    "    for topic, words in enumerate(model.components_):\n",
    "        size = {}\n",
    "        largest = words.argsort()[::-1] # invert sort order\n",
    "        for i in range(0, no_top_words):\n",
    "            size[features[largest[i]]] = abs(words[largest[i]])\n",
    "            wc = WordCloud(background_color=\"white\", max_words=100,\n",
    "                           width=960, height=540)\n",
    "            wc.generate_from_frequencies(size)\n",
    "            plt.figure(figsize=(12,12))\n",
    "            plt.imshow(wc, interpolation='bilinear')\n",
    "            plt.axis(\"off\")\n",
    "            # if you don't want to save the topic model, comment the next line\n",
    "            plt.savefig(f'topic{topic}.png')"
   ]
  },
  {
   "cell_type": "code",
   "execution_count": null,
   "metadata": {},
   "outputs": [],
   "source": [
    "#Wordclouds for 7 topics\n",
    "for t in range(lda_7_topics.num_topics):\n",
    "    plt.figure()\n",
    "    plt.imshow(WordCloud().fit_words(dict(lda_7_topics.show_topic(t, 20))))\n",
    "    plt.axis(\"off\")\n",
    "    plt.title(\"Topic #\" + str(t))\n",
    "    plt.show()"
   ]
  },
  {
   "cell_type": "code",
   "execution_count": null,
   "metadata": {},
   "outputs": [],
   "source": [
    "#Wordclouds for 12 topics\n",
    "for t in range(lda_12_topics.num_topics):\n",
    "    plt.figure()\n",
    "    plt.imshow(WordCloud().fit_words(dict(lda_12_topics.show_topic(t, 20))))\n",
    "    plt.axis(\"off\")\n",
    "    plt.title(\"Topic #\" + str(t))\n",
    "    plt.show()"
   ]
  },
  {
   "cell_type": "markdown",
   "metadata": {},
   "source": [
    "# Investigating Topic Distribution"
   ]
  },
  {
   "cell_type": "code",
   "execution_count": 41,
   "metadata": {},
   "outputs": [],
   "source": [
    "def format_topics_sentences(ldamodel=lda_7_topics, corpus=bow_gensim_abs, texts=word_dat):\n",
    "    # Init output\n",
    "    sent_topics_df = pd.DataFrame()\n",
    "\n",
    "    # Get main topic in each document\n",
    "    for i, row in enumerate(ldamodel[corpus]):\n",
    "        row = sorted(row, key=lambda x: (x[1]), reverse=True)\n",
    "        # Get the Dominant topic, Perc Contribution and Keywords for each document\n",
    "        for j, (topic_num, prop_topic) in enumerate(row):\n",
    "            if j == 0:  # => dominant topic\n",
    "                wp = ldamodel.show_topic(topic_num)\n",
    "                topic_keywords = \", \".join([word for word, prop in wp])\n",
    "                sent_topics_df = sent_topics_df.append(pd.Series([int(topic_num), round(prop_topic,4), topic_keywords]), ignore_index=True)\n",
    "            else:\n",
    "                break\n",
    "    sent_topics_df.columns = ['Dominant_Topic', 'Perc_Contribution', 'Topic_Keywords']\n",
    "\n",
    "    # Add original text to the end of the output\n",
    "    contents = pd.Series(texts)\n",
    "    sent_topics_df = pd.concat([sent_topics_df, contents], axis=1)\n",
    "    return(sent_topics_df)\n",
    "\n",
    "\n",
    "df_topic_sents_keywords = format_topics_sentences(ldamodel=lda_7_topics, corpus=bow_gensim_abs, texts=word_dat)\n",
    "\n",
    "# Format\n",
    "df_dominant_topic = df_topic_sents_keywords.reset_index()\n",
    "df_dominant_topic.columns = ['Document_No', 'Dominant_Topic', 'Topic_Perc_Contrib', 'Keywords', 'Text']\n",
    "\n",
    "# Show\n",
    "df_dominant_topic.head(10)\n",
    "dominant_topic_sample=df_dominant_topic.head(10)"
   ]
  },
  {
   "cell_type": "code",
   "execution_count": 30,
   "metadata": {},
   "outputs": [],
   "source": [
    "#Making sure this exports correctly\n",
    "\n",
    "dominant_topic_sample.to_csv(r'C:\\Users\\maddo\\Desktop\\Dominant_Topic_Sample.csv', index=False)"
   ]
  },
  {
   "cell_type": "code",
   "execution_count": 34,
   "metadata": {},
   "outputs": [],
   "source": [
    "df_dominant_topic.to_csv(r'C:\\Users\\maddo\\Desktop\\Dominant_Topic_Dataframe.csv', index=False)"
   ]
  },
  {
   "cell_type": "code",
   "execution_count": 42,
   "metadata": {},
   "outputs": [
    {
     "data": {
      "text/html": [
       "<div>\n",
       "<style scoped>\n",
       "    .dataframe tbody tr th:only-of-type {\n",
       "        vertical-align: middle;\n",
       "    }\n",
       "\n",
       "    .dataframe tbody tr th {\n",
       "        vertical-align: top;\n",
       "    }\n",
       "\n",
       "    .dataframe thead th {\n",
       "        text-align: right;\n",
       "    }\n",
       "</style>\n",
       "<table border=\"1\" class=\"dataframe\">\n",
       "  <thead>\n",
       "    <tr style=\"text-align: right;\">\n",
       "      <th></th>\n",
       "      <th>Article Title</th>\n",
       "      <th>Source Title</th>\n",
       "      <th>Author Keywords</th>\n",
       "      <th>Abstract</th>\n",
       "      <th>Addresses</th>\n",
       "      <th>Times Cited, All Databases</th>\n",
       "      <th>First_A</th>\n",
       "      <th>Dominant_Topic</th>\n",
       "    </tr>\n",
       "  </thead>\n",
       "  <tbody>\n",
       "    <tr>\n",
       "      <td>0</td>\n",
       "      <td>Land enrolled in the Conservation Reserve Prog...</td>\n",
       "      <td>GLOBAL ECOLOGY AND CONSERVATION</td>\n",
       "      <td>Conservation Reserve Program; Discrete choice ...</td>\n",
       "      <td>All animals must select sites to rest and may ...</td>\n",
       "      <td>[Tanner, Evan P.; Tanner, Ashley M.] Texas A&amp;M...</td>\n",
       "      <td>0</td>\n",
       "      <td>USA</td>\n",
       "      <td>2.0</td>\n",
       "    </tr>\n",
       "    <tr>\n",
       "      <td>1</td>\n",
       "      <td>Fish Biodiversity Conservation and Restoration...</td>\n",
       "      <td>WATER</td>\n",
       "      <td>conservation; ecological integrity; fish biodi...</td>\n",
       "      <td>Although many significant policies and legisla...</td>\n",
       "      <td>[Li, Jianhua] Tongji Univ, Key Lab Yangtze Wat...</td>\n",
       "      <td>2</td>\n",
       "      <td>Peoples R China</td>\n",
       "      <td>3.0</td>\n",
       "    </tr>\n",
       "    <tr>\n",
       "      <td>2</td>\n",
       "      <td>Operationalizing ecological connectivity in sp...</td>\n",
       "      <td>METHODS IN ECOLOGY AND EVOLUTION</td>\n",
       "      <td>decision support software; demographic; ecolog...</td>\n",
       "      <td>Globally, protected areas are being establishe...</td>\n",
       "      <td>[Daigle, Remi M.; Metaxas, Anna; Balbar, Ariea...</td>\n",
       "      <td>25</td>\n",
       "      <td>Canada</td>\n",
       "      <td>1.0</td>\n",
       "    </tr>\n",
       "    <tr>\n",
       "      <td>3</td>\n",
       "      <td>Spatial conservation planning with ecological ...</td>\n",
       "      <td>BIOLOGICAL CONSERVATION</td>\n",
       "      <td>Conservation feedbacks; Dynamic spatial priori...</td>\n",
       "      <td>Most spatial conservation prioritisations bein...</td>\n",
       "      <td>[Larrosa, Cecilia; Carrasco, Luis R.] Natl Uni...</td>\n",
       "      <td>2</td>\n",
       "      <td>Singapore</td>\n",
       "      <td>1.0</td>\n",
       "    </tr>\n",
       "    <tr>\n",
       "      <td>4</td>\n",
       "      <td>A landscape index of ecological integrity to i...</td>\n",
       "      <td>LANDSCAPE ECOLOGY</td>\n",
       "      <td>Landscape pattern; Landscape metrics; Ecologic...</td>\n",
       "      <td>Conservation planning is increasingly using co...</td>\n",
       "      <td>[McGarigal, Kevin; Compton, Bradley W.; Plunke...</td>\n",
       "      <td>16</td>\n",
       "      <td>USA</td>\n",
       "      <td>1.0</td>\n",
       "    </tr>\n",
       "    <tr>\n",
       "      <td>...</td>\n",
       "      <td>...</td>\n",
       "      <td>...</td>\n",
       "      <td>...</td>\n",
       "      <td>...</td>\n",
       "      <td>...</td>\n",
       "      <td>...</td>\n",
       "      <td>...</td>\n",
       "      <td>...</td>\n",
       "    </tr>\n",
       "    <tr>\n",
       "      <td>995</td>\n",
       "      <td>Disturbance Ecology in the Anthropocene</td>\n",
       "      <td>FRONTIERS IN ECOLOGY AND EVOLUTION</td>\n",
       "      <td>anthropogenic change; disturbance ecology; dis...</td>\n",
       "      <td>With the accumulating evidence of changing dis...</td>\n",
       "      <td>[Newman, Erica A.] Univ Arizona, Dept Ecol &amp; E...</td>\n",
       "      <td>34</td>\n",
       "      <td>USA</td>\n",
       "      <td>0.0</td>\n",
       "    </tr>\n",
       "    <tr>\n",
       "      <td>996</td>\n",
       "      <td>Integrating socio-ecological dynamics into lan...</td>\n",
       "      <td>LAND USE POLICY</td>\n",
       "      <td>Tree farms; Socio-Ecological; Dyna-CLUE; InVES...</td>\n",
       "      <td>Chile is one of the first documented nations t...</td>\n",
       "      <td>[Manuschevich, Daniela] Univ Acad Humanismo Cr...</td>\n",
       "      <td>8</td>\n",
       "      <td>Chile</td>\n",
       "      <td>1.0</td>\n",
       "    </tr>\n",
       "    <tr>\n",
       "      <td>997</td>\n",
       "      <td>Persistence through tough times: fixed and shi...</td>\n",
       "      <td>BIODIVERSITY AND CONSERVATION</td>\n",
       "      <td>Endangered species; Biodiversity conservation;...</td>\n",
       "      <td>It may be possible to avert threatened species...</td>\n",
       "      <td>[Reside, April E.; Fisher, Diana O.] Univ Quee...</td>\n",
       "      <td>23</td>\n",
       "      <td>Australia</td>\n",
       "      <td>2.0</td>\n",
       "    </tr>\n",
       "    <tr>\n",
       "      <td>998</td>\n",
       "      <td>Can local ecological knowledge provide meaning...</td>\n",
       "      <td>OCEAN &amp; COASTAL MANAGEMENT</td>\n",
       "      <td>Hainan; Indo-Pacific humpback dolphin; Questio...</td>\n",
       "      <td>Identifying and evaluating potentially suitabl...</td>\n",
       "      <td>[Lin, Mingli; Xing, Luru; Fang, Liang; Li, Son...</td>\n",
       "      <td>11</td>\n",
       "      <td>Peoples R China</td>\n",
       "      <td>2.0</td>\n",
       "    </tr>\n",
       "    <tr>\n",
       "      <td>999</td>\n",
       "      <td>Shifts in habitat suitability and the conserva...</td>\n",
       "      <td>ORYX</td>\n",
       "      <td>Andes; conservation planning; climate change; ...</td>\n",
       "      <td>Organisms adapted to life at high elevations a...</td>\n",
       "      <td>[Bennett, Magdalena; Sillero-Zubiri, Claudio; ...</td>\n",
       "      <td>5</td>\n",
       "      <td>England</td>\n",
       "      <td>2.0</td>\n",
       "    </tr>\n",
       "  </tbody>\n",
       "</table>\n",
       "<p>1000 rows × 8 columns</p>\n",
       "</div>"
      ],
      "text/plain": [
       "                                         Article Title  \\\n",
       "0    Land enrolled in the Conservation Reserve Prog...   \n",
       "1    Fish Biodiversity Conservation and Restoration...   \n",
       "2    Operationalizing ecological connectivity in sp...   \n",
       "3    Spatial conservation planning with ecological ...   \n",
       "4    A landscape index of ecological integrity to i...   \n",
       "..                                                 ...   \n",
       "995            Disturbance Ecology in the Anthropocene   \n",
       "996  Integrating socio-ecological dynamics into lan...   \n",
       "997  Persistence through tough times: fixed and shi...   \n",
       "998  Can local ecological knowledge provide meaning...   \n",
       "999  Shifts in habitat suitability and the conserva...   \n",
       "\n",
       "                           Source Title  \\\n",
       "0       GLOBAL ECOLOGY AND CONSERVATION   \n",
       "1                                 WATER   \n",
       "2      METHODS IN ECOLOGY AND EVOLUTION   \n",
       "3               BIOLOGICAL CONSERVATION   \n",
       "4                     LANDSCAPE ECOLOGY   \n",
       "..                                  ...   \n",
       "995  FRONTIERS IN ECOLOGY AND EVOLUTION   \n",
       "996                     LAND USE POLICY   \n",
       "997       BIODIVERSITY AND CONSERVATION   \n",
       "998          OCEAN & COASTAL MANAGEMENT   \n",
       "999                                ORYX   \n",
       "\n",
       "                                       Author Keywords  \\\n",
       "0    Conservation Reserve Program; Discrete choice ...   \n",
       "1    conservation; ecological integrity; fish biodi...   \n",
       "2    decision support software; demographic; ecolog...   \n",
       "3    Conservation feedbacks; Dynamic spatial priori...   \n",
       "4    Landscape pattern; Landscape metrics; Ecologic...   \n",
       "..                                                 ...   \n",
       "995  anthropogenic change; disturbance ecology; dis...   \n",
       "996  Tree farms; Socio-Ecological; Dyna-CLUE; InVES...   \n",
       "997  Endangered species; Biodiversity conservation;...   \n",
       "998  Hainan; Indo-Pacific humpback dolphin; Questio...   \n",
       "999  Andes; conservation planning; climate change; ...   \n",
       "\n",
       "                                              Abstract  \\\n",
       "0    All animals must select sites to rest and may ...   \n",
       "1    Although many significant policies and legisla...   \n",
       "2    Globally, protected areas are being establishe...   \n",
       "3    Most spatial conservation prioritisations bein...   \n",
       "4    Conservation planning is increasingly using co...   \n",
       "..                                                 ...   \n",
       "995  With the accumulating evidence of changing dis...   \n",
       "996  Chile is one of the first documented nations t...   \n",
       "997  It may be possible to avert threatened species...   \n",
       "998  Identifying and evaluating potentially suitabl...   \n",
       "999  Organisms adapted to life at high elevations a...   \n",
       "\n",
       "                                             Addresses  \\\n",
       "0    [Tanner, Evan P.; Tanner, Ashley M.] Texas A&M...   \n",
       "1    [Li, Jianhua] Tongji Univ, Key Lab Yangtze Wat...   \n",
       "2    [Daigle, Remi M.; Metaxas, Anna; Balbar, Ariea...   \n",
       "3    [Larrosa, Cecilia; Carrasco, Luis R.] Natl Uni...   \n",
       "4    [McGarigal, Kevin; Compton, Bradley W.; Plunke...   \n",
       "..                                                 ...   \n",
       "995  [Newman, Erica A.] Univ Arizona, Dept Ecol & E...   \n",
       "996  [Manuschevich, Daniela] Univ Acad Humanismo Cr...   \n",
       "997  [Reside, April E.; Fisher, Diana O.] Univ Quee...   \n",
       "998  [Lin, Mingli; Xing, Luru; Fang, Liang; Li, Son...   \n",
       "999  [Bennett, Magdalena; Sillero-Zubiri, Claudio; ...   \n",
       "\n",
       "     Times Cited, All Databases          First_A  Dominant_Topic  \n",
       "0                             0              USA             2.0  \n",
       "1                             2  Peoples R China             3.0  \n",
       "2                            25           Canada             1.0  \n",
       "3                             2        Singapore             1.0  \n",
       "4                            16              USA             1.0  \n",
       "..                          ...              ...             ...  \n",
       "995                          34              USA             0.0  \n",
       "996                           8            Chile             1.0  \n",
       "997                          23        Australia             2.0  \n",
       "998                          11  Peoples R China             2.0  \n",
       "999                           5          England             2.0  \n",
       "\n",
       "[1000 rows x 8 columns]"
      ]
     },
     "execution_count": 42,
     "metadata": {},
     "output_type": "execute_result"
    }
   ],
   "source": [
    "#making dominant topics a list and placing in WoS data\n",
    "\n",
    "dominant_topics=df_dominant_topic['Dominant_Topic']\n",
    "data['Dominant_Topic']=dominant_topics\n",
    "data"
   ]
  },
  {
   "cell_type": "code",
   "execution_count": 43,
   "metadata": {},
   "outputs": [],
   "source": [
    "##Everything looks good\n",
    "##Now lets update my WoS data\n",
    "\n",
    "data.to_csv(r'C:\\Users\\maddo\\Desktop\\WoS_Data.csv', index=False)"
   ]
  },
  {
   "cell_type": "markdown",
   "metadata": {},
   "source": [
    "# Geographically Mapping Topics\n",
    "\n",
    "https://towardsdatascience.com/when-topic-modeling-is-part-of-the-text-pre-processing-294b58d35514#:~:text=Create%20document-topic%20matrix.%20Create%20a%20data%20frame%20where,of%20each%20topic%20is%20assigned%20to%20each%20document.\n",
    "\n",
    "https://www.machinelearningplus.com/nlp/topic-modeling-python-sklearn-examples/#14howtoseethedominanttopicineachdocument\n",
    "\n",
    "https://plotly.com/python/bubble-maps/ (This contains what I ended up using)"
   ]
  },
  {
   "cell_type": "code",
   "execution_count": null,
   "metadata": {},
   "outputs": [],
   "source": [
    "import geopandas as gpd\n",
    "import geoplot as gplt\n",
    "import pygal\n",
    "import pygal_maps_world\n",
    "import numpy as np\n",
    "import plotly\n",
    "import plotly.express as px"
   ]
  },
  {
   "cell_type": "code",
   "execution_count": 44,
   "metadata": {},
   "outputs": [],
   "source": [
    "topics_dataframe=pd.DataFrame()\n",
    "\n",
    "topics_dataframe['Country']=data['First_A']\n",
    "topics_dataframe['Dominant_Topic']=data['Dominant_Topic']"
   ]
  },
  {
   "cell_type": "code",
   "execution_count": 98,
   "metadata": {},
   "outputs": [
    {
     "data": {
      "text/html": [
       "<div>\n",
       "<style scoped>\n",
       "    .dataframe tbody tr th:only-of-type {\n",
       "        vertical-align: middle;\n",
       "    }\n",
       "\n",
       "    .dataframe tbody tr th {\n",
       "        vertical-align: top;\n",
       "    }\n",
       "\n",
       "    .dataframe thead th {\n",
       "        text-align: right;\n",
       "    }\n",
       "</style>\n",
       "<table border=\"1\" class=\"dataframe\">\n",
       "  <thead>\n",
       "    <tr style=\"text-align: right;\">\n",
       "      <th></th>\n",
       "      <th>Country</th>\n",
       "      <th>Dominant_Topic</th>\n",
       "    </tr>\n",
       "  </thead>\n",
       "  <tbody>\n",
       "    <tr>\n",
       "      <td>0</td>\n",
       "      <td>USA</td>\n",
       "      <td>2.0</td>\n",
       "    </tr>\n",
       "    <tr>\n",
       "      <td>1</td>\n",
       "      <td>Peoples R China</td>\n",
       "      <td>3.0</td>\n",
       "    </tr>\n",
       "    <tr>\n",
       "      <td>2</td>\n",
       "      <td>Canada</td>\n",
       "      <td>1.0</td>\n",
       "    </tr>\n",
       "    <tr>\n",
       "      <td>3</td>\n",
       "      <td>Singapore</td>\n",
       "      <td>1.0</td>\n",
       "    </tr>\n",
       "    <tr>\n",
       "      <td>4</td>\n",
       "      <td>USA</td>\n",
       "      <td>1.0</td>\n",
       "    </tr>\n",
       "    <tr>\n",
       "      <td>...</td>\n",
       "      <td>...</td>\n",
       "      <td>...</td>\n",
       "    </tr>\n",
       "    <tr>\n",
       "      <td>995</td>\n",
       "      <td>USA</td>\n",
       "      <td>0.0</td>\n",
       "    </tr>\n",
       "    <tr>\n",
       "      <td>996</td>\n",
       "      <td>Chile</td>\n",
       "      <td>1.0</td>\n",
       "    </tr>\n",
       "    <tr>\n",
       "      <td>997</td>\n",
       "      <td>Australia</td>\n",
       "      <td>2.0</td>\n",
       "    </tr>\n",
       "    <tr>\n",
       "      <td>998</td>\n",
       "      <td>Peoples R China</td>\n",
       "      <td>2.0</td>\n",
       "    </tr>\n",
       "    <tr>\n",
       "      <td>999</td>\n",
       "      <td>England</td>\n",
       "      <td>2.0</td>\n",
       "    </tr>\n",
       "  </tbody>\n",
       "</table>\n",
       "<p>1000 rows × 2 columns</p>\n",
       "</div>"
      ],
      "text/plain": [
       "             Country Dominant_Topic\n",
       "0                USA            2.0\n",
       "1    Peoples R China            3.0\n",
       "2             Canada            1.0\n",
       "3          Singapore            1.0\n",
       "4                USA            1.0\n",
       "..               ...            ...\n",
       "995              USA            0.0\n",
       "996            Chile            1.0\n",
       "997        Australia            2.0\n",
       "998  Peoples R China            2.0\n",
       "999          England            2.0\n",
       "\n",
       "[1000 rows x 2 columns]"
      ]
     },
     "execution_count": 98,
     "metadata": {},
     "output_type": "execute_result"
    }
   ],
   "source": [
    "topics_dataframe"
   ]
  },
  {
   "cell_type": "code",
   "execution_count": 96,
   "metadata": {},
   "outputs": [],
   "source": [
    "topics_dataframe['Dominant_Topic'] = pd.Categorical(topics_dataframe.Dominant_Topic)\n",
    "topics_dataframe['Country'] = pd.Categorical(topics_dataframe.Country)"
   ]
  },
  {
   "cell_type": "code",
   "execution_count": 97,
   "metadata": {},
   "outputs": [
    {
     "data": {
      "text/plain": [
       "Country           category\n",
       "Dominant_Topic    category\n",
       "dtype: object"
      ]
     },
     "execution_count": 97,
     "metadata": {},
     "output_type": "execute_result"
    }
   ],
   "source": [
    "#topics_dataframe.dtypes"
   ]
  },
  {
   "cell_type": "code",
   "execution_count": 104,
   "metadata": {},
   "outputs": [],
   "source": [
    "\n",
    "\n",
    "topic_count_by_country=topics_dataframe.groupby( [ \"Country\", \"Dominant_Topic\"] ).size().to_frame(name = 'count').reset_index()"
   ]
  },
  {
   "cell_type": "code",
   "execution_count": 106,
   "metadata": {},
   "outputs": [],
   "source": [
    "#inspect a csv\n",
    "\n",
    "topic_count_by_country.to_csv(r'C:\\Users\\maddo\\Desktop\\topic_count_by_country.csv', index=False)"
   ]
  },
  {
   "cell_type": "code",
   "execution_count": 119,
   "metadata": {},
   "outputs": [
    {
     "data": {
      "text/html": [
       "<div>\n",
       "<style scoped>\n",
       "    .dataframe tbody tr th:only-of-type {\n",
       "        vertical-align: middle;\n",
       "    }\n",
       "\n",
       "    .dataframe tbody tr th {\n",
       "        vertical-align: top;\n",
       "    }\n",
       "\n",
       "    .dataframe thead th {\n",
       "        text-align: right;\n",
       "    }\n",
       "</style>\n",
       "<table border=\"1\" class=\"dataframe\">\n",
       "  <thead>\n",
       "    <tr style=\"text-align: right;\">\n",
       "      <th></th>\n",
       "      <th>Country</th>\n",
       "      <th>Dominant_Topic</th>\n",
       "      <th>count</th>\n",
       "    </tr>\n",
       "  </thead>\n",
       "  <tbody>\n",
       "    <tr>\n",
       "      <td>0</td>\n",
       "      <td>Algeria</td>\n",
       "      <td>2.0</td>\n",
       "      <td>1</td>\n",
       "    </tr>\n",
       "    <tr>\n",
       "      <td>1</td>\n",
       "      <td>Argentina</td>\n",
       "      <td>0.0</td>\n",
       "      <td>1</td>\n",
       "    </tr>\n",
       "    <tr>\n",
       "      <td>2</td>\n",
       "      <td>Argentina</td>\n",
       "      <td>2.0</td>\n",
       "      <td>10</td>\n",
       "    </tr>\n",
       "    <tr>\n",
       "      <td>3</td>\n",
       "      <td>Argentina</td>\n",
       "      <td>3.0</td>\n",
       "      <td>1</td>\n",
       "    </tr>\n",
       "    <tr>\n",
       "      <td>4</td>\n",
       "      <td>Argentina</td>\n",
       "      <td>6.0</td>\n",
       "      <td>1</td>\n",
       "    </tr>\n",
       "    <tr>\n",
       "      <td>...</td>\n",
       "      <td>...</td>\n",
       "      <td>...</td>\n",
       "      <td>...</td>\n",
       "    </tr>\n",
       "    <tr>\n",
       "      <td>220</td>\n",
       "      <td>USA</td>\n",
       "      <td>5.0</td>\n",
       "      <td>21</td>\n",
       "    </tr>\n",
       "    <tr>\n",
       "      <td>221</td>\n",
       "      <td>USA</td>\n",
       "      <td>6.0</td>\n",
       "      <td>56</td>\n",
       "    </tr>\n",
       "    <tr>\n",
       "      <td>222</td>\n",
       "      <td>Uruguay</td>\n",
       "      <td>3.0</td>\n",
       "      <td>1</td>\n",
       "    </tr>\n",
       "    <tr>\n",
       "      <td>223</td>\n",
       "      <td>Zimbabwe</td>\n",
       "      <td>0.0</td>\n",
       "      <td>2</td>\n",
       "    </tr>\n",
       "    <tr>\n",
       "      <td>224</td>\n",
       "      <td>Zimbabwe</td>\n",
       "      <td>5.0</td>\n",
       "      <td>1</td>\n",
       "    </tr>\n",
       "  </tbody>\n",
       "</table>\n",
       "<p>225 rows × 3 columns</p>\n",
       "</div>"
      ],
      "text/plain": [
       "       Country Dominant_Topic  count\n",
       "0      Algeria            2.0      1\n",
       "1    Argentina            0.0      1\n",
       "2    Argentina            2.0     10\n",
       "3    Argentina            3.0      1\n",
       "4    Argentina            6.0      1\n",
       "..         ...            ...    ...\n",
       "220        USA            5.0     21\n",
       "221        USA            6.0     56\n",
       "222    Uruguay            3.0      1\n",
       "223   Zimbabwe            0.0      2\n",
       "224   Zimbabwe            5.0      1\n",
       "\n",
       "[225 rows x 3 columns]"
      ]
     },
     "execution_count": 119,
     "metadata": {},
     "output_type": "execute_result"
    }
   ],
   "source": [
    "topic_count_by_country"
   ]
  },
  {
   "cell_type": "code",
   "execution_count": 122,
   "metadata": {},
   "outputs": [
    {
     "data": {
      "text/plain": [
       "Country           category\n",
       "Dominant_Topic    category\n",
       "count                int64\n",
       "dtype: object"
      ]
     },
     "execution_count": 122,
     "metadata": {},
     "output_type": "execute_result"
    }
   ],
   "source": [
    "topic_count_by_country.dtypes"
   ]
  },
  {
   "cell_type": "code",
   "execution_count": 123,
   "metadata": {},
   "outputs": [
    {
     "name": "stdout",
     "output_type": "stream",
     "text": [
      "       Country                      Dominant_Topic  count\n",
      "0      Algeria           Habitat Use, Distribution      1\n",
      "1    Argentina                   Land Use, Forests      1\n",
      "2    Argentina           Habitat Use, Distribution     10\n",
      "3    Argentina  Marine Area Protection, Management      1\n",
      "4    Argentina                     Social Research      1\n",
      "..         ...                                 ...    ...\n",
      "220        USA        Local Knowledge, Communities     21\n",
      "221        USA                     Social Research     56\n",
      "222    Uruguay  Marine Area Protection, Management      1\n",
      "223   Zimbabwe                   Land Use, Forests      2\n",
      "224   Zimbabwe        Local Knowledge, Communities      1\n",
      "\n",
      "[225 rows x 3 columns]\n"
     ]
    }
   ],
   "source": [
    "##Renaming to approximate topic labels (subjectively assigned based on keywords, texts assigned a topic, and knowledge of field)\n",
    "\n",
    "topic_count_by_country['Dominant_Topic'] = topic_count_by_country['Dominant_Topic'].replace(\n",
    "    to_replace=[0.0, 1.0,2.0,3.0,4.0,5.0,6.0], \n",
    "    value=['Land Use, Forests', 'Land Use, Urban','Habitat Use, Distribution',\n",
    "           'Marine Area Protection, Management', 'Human-Wildlife Interface','Local Knowledge, Communities',\n",
    "           'Social Research'])\n",
    "print(topic_count_by_country)"
   ]
  },
  {
   "cell_type": "markdown",
   "metadata": {},
   "source": [
    "# Bubble Maps\n",
    "https://plotly.com/python/bubble-maps/"
   ]
  },
  {
   "cell_type": "code",
   "execution_count": 126,
   "metadata": {},
   "outputs": [
    {
     "data": {
      "application/vnd.plotly.v1+json": {
       "config": {
        "plotlyServerURL": "https://plot.ly"
       },
       "data": [
        {
         "geo": "geo",
         "hovertemplate": "<b>%{hovertext}</b><br><br>Dominant_Topic=Habitat Use, Distribution<br>count=%{marker.size}<br>Country=%{location}<extra></extra>",
         "hovertext": [
          "Algeria",
          "Argentina",
          "Australia",
          "Austria",
          "Bangladesh",
          "Belgium",
          "Benin",
          "Brazil",
          "Bulgaria",
          "Canada",
          "Chile",
          "Colombia",
          "Country not found",
          "Croatia",
          "Cuba",
          "Czech Republic",
          "Denmark",
          "Ecuador",
          "England",
          "Ethiopia",
          "Finland",
          "France",
          "Georgia",
          "Germany",
          "Greece",
          "Hungary",
          "India",
          "Iran",
          "Ireland",
          "Israel",
          "Italy",
          "Japan",
          "Latvia",
          "Luxembourg",
          "Malaysia",
          "Mexico",
          "Morocco",
          "Myanmar",
          "Nepal",
          "Netherlands",
          "New Zealand",
          "Nigeria",
          "North Ireland",
          "Pakistan",
          "Peoples R China",
          "Poland",
          "Portugal",
          "Russia",
          "Scotland",
          "Senegal",
          "Singapore",
          "South Africa",
          "South Korea",
          "South Sudan",
          "Spain",
          "Sweden",
          "Switzerland",
          "Taiwan",
          "Tunisia",
          "Turkey",
          "USA"
         ],
         "ids": [
          "Habitat Use, Distribution",
          "Habitat Use, Distribution",
          "Habitat Use, Distribution",
          "Habitat Use, Distribution",
          "Habitat Use, Distribution",
          "Habitat Use, Distribution",
          "Habitat Use, Distribution",
          "Habitat Use, Distribution",
          "Habitat Use, Distribution",
          "Habitat Use, Distribution",
          "Habitat Use, Distribution",
          "Habitat Use, Distribution",
          "Habitat Use, Distribution",
          "Habitat Use, Distribution",
          "Habitat Use, Distribution",
          "Habitat Use, Distribution",
          "Habitat Use, Distribution",
          "Habitat Use, Distribution",
          "Habitat Use, Distribution",
          "Habitat Use, Distribution",
          "Habitat Use, Distribution",
          "Habitat Use, Distribution",
          "Habitat Use, Distribution",
          "Habitat Use, Distribution",
          "Habitat Use, Distribution",
          "Habitat Use, Distribution",
          "Habitat Use, Distribution",
          "Habitat Use, Distribution",
          "Habitat Use, Distribution",
          "Habitat Use, Distribution",
          "Habitat Use, Distribution",
          "Habitat Use, Distribution",
          "Habitat Use, Distribution",
          "Habitat Use, Distribution",
          "Habitat Use, Distribution",
          "Habitat Use, Distribution",
          "Habitat Use, Distribution",
          "Habitat Use, Distribution",
          "Habitat Use, Distribution",
          "Habitat Use, Distribution",
          "Habitat Use, Distribution",
          "Habitat Use, Distribution",
          "Habitat Use, Distribution",
          "Habitat Use, Distribution",
          "Habitat Use, Distribution",
          "Habitat Use, Distribution",
          "Habitat Use, Distribution",
          "Habitat Use, Distribution",
          "Habitat Use, Distribution",
          "Habitat Use, Distribution",
          "Habitat Use, Distribution",
          "Habitat Use, Distribution",
          "Habitat Use, Distribution",
          "Habitat Use, Distribution",
          "Habitat Use, Distribution",
          "Habitat Use, Distribution",
          "Habitat Use, Distribution",
          "Habitat Use, Distribution",
          "Habitat Use, Distribution",
          "Habitat Use, Distribution",
          "Habitat Use, Distribution"
         ],
         "legendgroup": "",
         "locationmode": "country names",
         "locations": [
          "Algeria",
          "Argentina",
          "Australia",
          "Austria",
          "Bangladesh",
          "Belgium",
          "Benin",
          "Brazil",
          "Bulgaria",
          "Canada",
          "Chile",
          "Colombia",
          "Country not found",
          "Croatia",
          "Cuba",
          "Czech Republic",
          "Denmark",
          "Ecuador",
          "England",
          "Ethiopia",
          "Finland",
          "France",
          "Georgia",
          "Germany",
          "Greece",
          "Hungary",
          "India",
          "Iran",
          "Ireland",
          "Israel",
          "Italy",
          "Japan",
          "Latvia",
          "Luxembourg",
          "Malaysia",
          "Mexico",
          "Morocco",
          "Myanmar",
          "Nepal",
          "Netherlands",
          "New Zealand",
          "Nigeria",
          "North Ireland",
          "Pakistan",
          "Peoples R China",
          "Poland",
          "Portugal",
          "Russia",
          "Scotland",
          "Senegal",
          "Singapore",
          "South Africa",
          "South Korea",
          "South Sudan",
          "Spain",
          "Sweden",
          "Switzerland",
          "Taiwan",
          "Tunisia",
          "Turkey",
          "USA"
         ],
         "marker": {
          "color": "#636efa",
          "size": [
           1,
           10,
           19,
           2,
           1,
           3,
           2,
           25,
           1,
           10,
           3,
           3,
           1,
           2,
           4,
           2,
           3,
           4,
           18,
           1,
           2,
           10,
           1,
           9,
           3,
           1,
           10,
           2,
           2,
           2,
           11,
           3,
           2,
           1,
           1,
           16,
           2,
           1,
           1,
           1,
           2,
           1,
           1,
           1,
           38,
           4,
           7,
           2,
           1,
           1,
           1,
           4,
           1,
           1,
           8,
           3,
           3,
           1,
           1,
           3,
           65
          ],
          "sizemode": "area",
          "sizeref": 0.1625,
          "symbol": "circle"
         },
         "mode": "markers",
         "name": "",
         "showlegend": false,
         "type": "scattergeo"
        }
       ],
       "frames": [
        {
         "data": [
          {
           "geo": "geo",
           "hovertemplate": "<b>%{hovertext}</b><br><br>Dominant_Topic=Habitat Use, Distribution<br>count=%{marker.size}<br>Country=%{location}<extra></extra>",
           "hovertext": [
            "Algeria",
            "Argentina",
            "Australia",
            "Austria",
            "Bangladesh",
            "Belgium",
            "Benin",
            "Brazil",
            "Bulgaria",
            "Canada",
            "Chile",
            "Colombia",
            "Country not found",
            "Croatia",
            "Cuba",
            "Czech Republic",
            "Denmark",
            "Ecuador",
            "England",
            "Ethiopia",
            "Finland",
            "France",
            "Georgia",
            "Germany",
            "Greece",
            "Hungary",
            "India",
            "Iran",
            "Ireland",
            "Israel",
            "Italy",
            "Japan",
            "Latvia",
            "Luxembourg",
            "Malaysia",
            "Mexico",
            "Morocco",
            "Myanmar",
            "Nepal",
            "Netherlands",
            "New Zealand",
            "Nigeria",
            "North Ireland",
            "Pakistan",
            "Peoples R China",
            "Poland",
            "Portugal",
            "Russia",
            "Scotland",
            "Senegal",
            "Singapore",
            "South Africa",
            "South Korea",
            "South Sudan",
            "Spain",
            "Sweden",
            "Switzerland",
            "Taiwan",
            "Tunisia",
            "Turkey",
            "USA"
           ],
           "ids": [
            "Habitat Use, Distribution",
            "Habitat Use, Distribution",
            "Habitat Use, Distribution",
            "Habitat Use, Distribution",
            "Habitat Use, Distribution",
            "Habitat Use, Distribution",
            "Habitat Use, Distribution",
            "Habitat Use, Distribution",
            "Habitat Use, Distribution",
            "Habitat Use, Distribution",
            "Habitat Use, Distribution",
            "Habitat Use, Distribution",
            "Habitat Use, Distribution",
            "Habitat Use, Distribution",
            "Habitat Use, Distribution",
            "Habitat Use, Distribution",
            "Habitat Use, Distribution",
            "Habitat Use, Distribution",
            "Habitat Use, Distribution",
            "Habitat Use, Distribution",
            "Habitat Use, Distribution",
            "Habitat Use, Distribution",
            "Habitat Use, Distribution",
            "Habitat Use, Distribution",
            "Habitat Use, Distribution",
            "Habitat Use, Distribution",
            "Habitat Use, Distribution",
            "Habitat Use, Distribution",
            "Habitat Use, Distribution",
            "Habitat Use, Distribution",
            "Habitat Use, Distribution",
            "Habitat Use, Distribution",
            "Habitat Use, Distribution",
            "Habitat Use, Distribution",
            "Habitat Use, Distribution",
            "Habitat Use, Distribution",
            "Habitat Use, Distribution",
            "Habitat Use, Distribution",
            "Habitat Use, Distribution",
            "Habitat Use, Distribution",
            "Habitat Use, Distribution",
            "Habitat Use, Distribution",
            "Habitat Use, Distribution",
            "Habitat Use, Distribution",
            "Habitat Use, Distribution",
            "Habitat Use, Distribution",
            "Habitat Use, Distribution",
            "Habitat Use, Distribution",
            "Habitat Use, Distribution",
            "Habitat Use, Distribution",
            "Habitat Use, Distribution",
            "Habitat Use, Distribution",
            "Habitat Use, Distribution",
            "Habitat Use, Distribution",
            "Habitat Use, Distribution",
            "Habitat Use, Distribution",
            "Habitat Use, Distribution",
            "Habitat Use, Distribution",
            "Habitat Use, Distribution",
            "Habitat Use, Distribution",
            "Habitat Use, Distribution"
           ],
           "legendgroup": "",
           "locationmode": "country names",
           "locations": [
            "Algeria",
            "Argentina",
            "Australia",
            "Austria",
            "Bangladesh",
            "Belgium",
            "Benin",
            "Brazil",
            "Bulgaria",
            "Canada",
            "Chile",
            "Colombia",
            "Country not found",
            "Croatia",
            "Cuba",
            "Czech Republic",
            "Denmark",
            "Ecuador",
            "England",
            "Ethiopia",
            "Finland",
            "France",
            "Georgia",
            "Germany",
            "Greece",
            "Hungary",
            "India",
            "Iran",
            "Ireland",
            "Israel",
            "Italy",
            "Japan",
            "Latvia",
            "Luxembourg",
            "Malaysia",
            "Mexico",
            "Morocco",
            "Myanmar",
            "Nepal",
            "Netherlands",
            "New Zealand",
            "Nigeria",
            "North Ireland",
            "Pakistan",
            "Peoples R China",
            "Poland",
            "Portugal",
            "Russia",
            "Scotland",
            "Senegal",
            "Singapore",
            "South Africa",
            "South Korea",
            "South Sudan",
            "Spain",
            "Sweden",
            "Switzerland",
            "Taiwan",
            "Tunisia",
            "Turkey",
            "USA"
           ],
           "marker": {
            "color": "#636efa",
            "size": [
             1,
             10,
             19,
             2,
             1,
             3,
             2,
             25,
             1,
             10,
             3,
             3,
             1,
             2,
             4,
             2,
             3,
             4,
             18,
             1,
             2,
             10,
             1,
             9,
             3,
             1,
             10,
             2,
             2,
             2,
             11,
             3,
             2,
             1,
             1,
             16,
             2,
             1,
             1,
             1,
             2,
             1,
             1,
             1,
             38,
             4,
             7,
             2,
             1,
             1,
             1,
             4,
             1,
             1,
             8,
             3,
             3,
             1,
             1,
             3,
             65
            ],
            "sizemode": "area",
            "sizeref": 0.1625,
            "symbol": "circle"
           },
           "mode": "markers",
           "name": "",
           "showlegend": false,
           "type": "scattergeo"
          }
         ],
         "name": "Habitat Use, Distribution"
        },
        {
         "data": [
          {
           "geo": "geo",
           "hovertemplate": "<b>%{hovertext}</b><br><br>Dominant_Topic=Land Use, Forests<br>count=%{marker.size}<br>Country=%{location}<extra></extra>",
           "hovertext": [
            "Argentina",
            "Australia",
            "Bhutan",
            "Brazil",
            "Canada",
            "England",
            "Ethiopia",
            "Finland",
            "France",
            "Germany",
            "India",
            "Indonesia",
            "Italy",
            "Japan",
            "Kenya",
            "Mali",
            "Mexico",
            "Mozambique",
            "Myanmar",
            "Nepal",
            "Netherlands",
            "New Zealand",
            "Nigeria",
            "Peoples R China",
            "Poland",
            "Romania",
            "Rwanda",
            "Saudi Arabia",
            "Scotland",
            "South Africa",
            "South Korea",
            "Spain",
            "Sweden",
            "Switzerland",
            "USA",
            "Zimbabwe"
           ],
           "ids": [
            "Land Use, Forests",
            "Land Use, Forests",
            "Land Use, Forests",
            "Land Use, Forests",
            "Land Use, Forests",
            "Land Use, Forests",
            "Land Use, Forests",
            "Land Use, Forests",
            "Land Use, Forests",
            "Land Use, Forests",
            "Land Use, Forests",
            "Land Use, Forests",
            "Land Use, Forests",
            "Land Use, Forests",
            "Land Use, Forests",
            "Land Use, Forests",
            "Land Use, Forests",
            "Land Use, Forests",
            "Land Use, Forests",
            "Land Use, Forests",
            "Land Use, Forests",
            "Land Use, Forests",
            "Land Use, Forests",
            "Land Use, Forests",
            "Land Use, Forests",
            "Land Use, Forests",
            "Land Use, Forests",
            "Land Use, Forests",
            "Land Use, Forests",
            "Land Use, Forests",
            "Land Use, Forests",
            "Land Use, Forests",
            "Land Use, Forests",
            "Land Use, Forests",
            "Land Use, Forests",
            "Land Use, Forests"
           ],
           "legendgroup": "",
           "locationmode": "country names",
           "locations": [
            "Argentina",
            "Australia",
            "Bhutan",
            "Brazil",
            "Canada",
            "England",
            "Ethiopia",
            "Finland",
            "France",
            "Germany",
            "India",
            "Indonesia",
            "Italy",
            "Japan",
            "Kenya",
            "Mali",
            "Mexico",
            "Mozambique",
            "Myanmar",
            "Nepal",
            "Netherlands",
            "New Zealand",
            "Nigeria",
            "Peoples R China",
            "Poland",
            "Romania",
            "Rwanda",
            "Saudi Arabia",
            "Scotland",
            "South Africa",
            "South Korea",
            "Spain",
            "Sweden",
            "Switzerland",
            "USA",
            "Zimbabwe"
           ],
           "marker": {
            "color": "#636efa",
            "size": [
             1,
             7,
             1,
             11,
             5,
             3,
             1,
             2,
             3,
             11,
             11,
             1,
             2,
             2,
             4,
             1,
             1,
             1,
             1,
             1,
             1,
             1,
             1,
             39,
             1,
             1,
             1,
             2,
             1,
             5,
             1,
             3,
             5,
             1,
             23,
             2
            ],
            "sizemode": "area",
            "sizeref": 0.1625,
            "symbol": "circle"
           },
           "mode": "markers",
           "name": "",
           "showlegend": false,
           "type": "scattergeo"
          }
         ],
         "name": "Land Use, Forests"
        },
        {
         "data": [
          {
           "geo": "geo",
           "hovertemplate": "<b>%{hovertext}</b><br><br>Dominant_Topic=Marine Area Protection, Management<br>count=%{marker.size}<br>Country=%{location}<extra></extra>",
           "hovertext": [
            "Argentina",
            "Australia",
            "Bangladesh",
            "Brazil",
            "Canada",
            "Colombia",
            "Ecuador",
            "England",
            "Finland",
            "France",
            "Germany",
            "India",
            "Indonesia",
            "Ireland",
            "Israel",
            "Italy",
            "Japan",
            "Malaysia",
            "Mexico",
            "Pakistan",
            "Peoples R China",
            "Portugal",
            "South Africa",
            "Spain",
            "Taiwan",
            "USA",
            "Uruguay"
           ],
           "ids": [
            "Marine Area Protection, Management",
            "Marine Area Protection, Management",
            "Marine Area Protection, Management",
            "Marine Area Protection, Management",
            "Marine Area Protection, Management",
            "Marine Area Protection, Management",
            "Marine Area Protection, Management",
            "Marine Area Protection, Management",
            "Marine Area Protection, Management",
            "Marine Area Protection, Management",
            "Marine Area Protection, Management",
            "Marine Area Protection, Management",
            "Marine Area Protection, Management",
            "Marine Area Protection, Management",
            "Marine Area Protection, Management",
            "Marine Area Protection, Management",
            "Marine Area Protection, Management",
            "Marine Area Protection, Management",
            "Marine Area Protection, Management",
            "Marine Area Protection, Management",
            "Marine Area Protection, Management",
            "Marine Area Protection, Management",
            "Marine Area Protection, Management",
            "Marine Area Protection, Management",
            "Marine Area Protection, Management",
            "Marine Area Protection, Management",
            "Marine Area Protection, Management"
           ],
           "legendgroup": "",
           "locationmode": "country names",
           "locations": [
            "Argentina",
            "Australia",
            "Bangladesh",
            "Brazil",
            "Canada",
            "Colombia",
            "Ecuador",
            "England",
            "Finland",
            "France",
            "Germany",
            "India",
            "Indonesia",
            "Ireland",
            "Israel",
            "Italy",
            "Japan",
            "Malaysia",
            "Mexico",
            "Pakistan",
            "Peoples R China",
            "Portugal",
            "South Africa",
            "Spain",
            "Taiwan",
            "USA",
            "Uruguay"
           ],
           "marker": {
            "color": "#636efa",
            "size": [
             1,
             13,
             1,
             11,
             9,
             2,
             1,
             4,
             1,
             3,
             1,
             1,
             1,
             1,
             1,
             1,
             1,
             2,
             4,
             1,
             11,
             2,
             4,
             3,
             1,
             12,
             1
            ],
            "sizemode": "area",
            "sizeref": 0.1625,
            "symbol": "circle"
           },
           "mode": "markers",
           "name": "",
           "showlegend": false,
           "type": "scattergeo"
          }
         ],
         "name": "Marine Area Protection, Management"
        },
        {
         "data": [
          {
           "geo": "geo",
           "hovertemplate": "<b>%{hovertext}</b><br><br>Dominant_Topic=Social Research<br>count=%{marker.size}<br>Country=%{location}<extra></extra>",
           "hovertext": [
            "Argentina",
            "Australia",
            "Belgium",
            "Brazil",
            "Canada",
            "Colombia",
            "Denmark",
            "England",
            "Finland",
            "France",
            "Germany",
            "Hungary",
            "India",
            "Indonesia",
            "Israel",
            "Italy",
            "Japan",
            "Kenya",
            "Mexico",
            "New Zealand",
            "Peoples R China",
            "Portugal",
            "Scotland",
            "Singapore",
            "Slovenia",
            "South Africa",
            "Spain",
            "Sweden",
            "Switzerland",
            "USA"
           ],
           "ids": [
            "Social Research",
            "Social Research",
            "Social Research",
            "Social Research",
            "Social Research",
            "Social Research",
            "Social Research",
            "Social Research",
            "Social Research",
            "Social Research",
            "Social Research",
            "Social Research",
            "Social Research",
            "Social Research",
            "Social Research",
            "Social Research",
            "Social Research",
            "Social Research",
            "Social Research",
            "Social Research",
            "Social Research",
            "Social Research",
            "Social Research",
            "Social Research",
            "Social Research",
            "Social Research",
            "Social Research",
            "Social Research",
            "Social Research",
            "Social Research"
           ],
           "legendgroup": "",
           "locationmode": "country names",
           "locations": [
            "Argentina",
            "Australia",
            "Belgium",
            "Brazil",
            "Canada",
            "Colombia",
            "Denmark",
            "England",
            "Finland",
            "France",
            "Germany",
            "Hungary",
            "India",
            "Indonesia",
            "Israel",
            "Italy",
            "Japan",
            "Kenya",
            "Mexico",
            "New Zealand",
            "Peoples R China",
            "Portugal",
            "Scotland",
            "Singapore",
            "Slovenia",
            "South Africa",
            "Spain",
            "Sweden",
            "Switzerland",
            "USA"
           ],
           "marker": {
            "color": "#636efa",
            "size": [
             1,
             19,
             3,
             8,
             13,
             1,
             1,
             15,
             2,
             6,
             7,
             2,
             2,
             1,
             1,
             4,
             3,
             1,
             3,
             5,
             3,
             1,
             1,
             1,
             1,
             6,
             2,
             1,
             2,
             56
            ],
            "sizemode": "area",
            "sizeref": 0.1625,
            "symbol": "circle"
           },
           "mode": "markers",
           "name": "",
           "showlegend": false,
           "type": "scattergeo"
          }
         ],
         "name": "Social Research"
        },
        {
         "data": [
          {
           "geo": "geo",
           "hovertemplate": "<b>%{hovertext}</b><br><br>Dominant_Topic=Land Use, Urban<br>count=%{marker.size}<br>Country=%{location}<extra></extra>",
           "hovertext": [
            "Australia",
            "Benin",
            "Brazil",
            "Canada",
            "Chile",
            "Czech Republic",
            "England",
            "Finland",
            "France",
            "Germany",
            "India",
            "Iran",
            "Israel",
            "Japan",
            "Pakistan",
            "Peoples R China",
            "Serbia",
            "Singapore",
            "South Africa",
            "South Korea",
            "Spain",
            "Sweden",
            "Taiwan",
            "Thailand",
            "Turkey",
            "USA"
           ],
           "ids": [
            "Land Use, Urban",
            "Land Use, Urban",
            "Land Use, Urban",
            "Land Use, Urban",
            "Land Use, Urban",
            "Land Use, Urban",
            "Land Use, Urban",
            "Land Use, Urban",
            "Land Use, Urban",
            "Land Use, Urban",
            "Land Use, Urban",
            "Land Use, Urban",
            "Land Use, Urban",
            "Land Use, Urban",
            "Land Use, Urban",
            "Land Use, Urban",
            "Land Use, Urban",
            "Land Use, Urban",
            "Land Use, Urban",
            "Land Use, Urban",
            "Land Use, Urban",
            "Land Use, Urban",
            "Land Use, Urban",
            "Land Use, Urban",
            "Land Use, Urban",
            "Land Use, Urban"
           ],
           "legendgroup": "",
           "locationmode": "country names",
           "locations": [
            "Australia",
            "Benin",
            "Brazil",
            "Canada",
            "Chile",
            "Czech Republic",
            "England",
            "Finland",
            "France",
            "Germany",
            "India",
            "Iran",
            "Israel",
            "Japan",
            "Pakistan",
            "Peoples R China",
            "Serbia",
            "Singapore",
            "South Africa",
            "South Korea",
            "Spain",
            "Sweden",
            "Taiwan",
            "Thailand",
            "Turkey",
            "USA"
           ],
           "marker": {
            "color": "#636efa",
            "size": [
             7,
             1,
             2,
             3,
             1,
             1,
             1,
             2,
             2,
             2,
             3,
             2,
             1,
             2,
             1,
             42,
             1,
             1,
             1,
             2,
             2,
             1,
             1,
             1,
             1,
             18
            ],
            "sizemode": "area",
            "sizeref": 0.1625,
            "symbol": "circle"
           },
           "mode": "markers",
           "name": "",
           "showlegend": false,
           "type": "scattergeo"
          }
         ],
         "name": "Land Use, Urban"
        },
        {
         "data": [
          {
           "geo": "geo",
           "hovertemplate": "<b>%{hovertext}</b><br><br>Dominant_Topic=Human-Wildlife Interface<br>count=%{marker.size}<br>Country=%{location}<extra></extra>",
           "hovertext": [
            "Australia",
            "Brazil",
            "Canada",
            "England",
            "Ethiopia",
            "France",
            "Germany",
            "Greece",
            "India",
            "Indonesia",
            "Iran",
            "Italy",
            "Norway",
            "Peoples R China",
            "Portugal",
            "Scotland",
            "Switzerland",
            "Taiwan",
            "USA"
           ],
           "ids": [
            "Human-Wildlife Interface",
            "Human-Wildlife Interface",
            "Human-Wildlife Interface",
            "Human-Wildlife Interface",
            "Human-Wildlife Interface",
            "Human-Wildlife Interface",
            "Human-Wildlife Interface",
            "Human-Wildlife Interface",
            "Human-Wildlife Interface",
            "Human-Wildlife Interface",
            "Human-Wildlife Interface",
            "Human-Wildlife Interface",
            "Human-Wildlife Interface",
            "Human-Wildlife Interface",
            "Human-Wildlife Interface",
            "Human-Wildlife Interface",
            "Human-Wildlife Interface",
            "Human-Wildlife Interface",
            "Human-Wildlife Interface"
           ],
           "legendgroup": "",
           "locationmode": "country names",
           "locations": [
            "Australia",
            "Brazil",
            "Canada",
            "England",
            "Ethiopia",
            "France",
            "Germany",
            "Greece",
            "India",
            "Indonesia",
            "Iran",
            "Italy",
            "Norway",
            "Peoples R China",
            "Portugal",
            "Scotland",
            "Switzerland",
            "Taiwan",
            "USA"
           ],
           "marker": {
            "color": "#636efa",
            "size": [
             7,
             1,
             3,
             5,
             2,
             1,
             2,
             2,
             2,
             1,
             1,
             1,
             1,
             10,
             1,
             1,
             1,
             1,
             12
            ],
            "sizemode": "area",
            "sizeref": 0.1625,
            "symbol": "circle"
           },
           "mode": "markers",
           "name": "",
           "showlegend": false,
           "type": "scattergeo"
          }
         ],
         "name": "Human-Wildlife Interface"
        },
        {
         "data": [
          {
           "geo": "geo",
           "hovertemplate": "<b>%{hovertext}</b><br><br>Dominant_Topic=Local Knowledge, Communities<br>count=%{marker.size}<br>Country=%{location}<extra></extra>",
           "hovertext": [
            "Australia",
            "Brazil",
            "Canada",
            "Chile",
            "Czech Republic",
            "Denmark",
            "England",
            "Finland",
            "France",
            "Germany",
            "Ghana",
            "Hungary",
            "India",
            "Indonesia",
            "Japan",
            "Malaysia",
            "Mexico",
            "Netherlands",
            "New Zealand",
            "Norway",
            "Peoples R China",
            "Poland",
            "Scotland",
            "Switzerland",
            "USA",
            "Zimbabwe"
           ],
           "ids": [
            "Local Knowledge, Communities",
            "Local Knowledge, Communities",
            "Local Knowledge, Communities",
            "Local Knowledge, Communities",
            "Local Knowledge, Communities",
            "Local Knowledge, Communities",
            "Local Knowledge, Communities",
            "Local Knowledge, Communities",
            "Local Knowledge, Communities",
            "Local Knowledge, Communities",
            "Local Knowledge, Communities",
            "Local Knowledge, Communities",
            "Local Knowledge, Communities",
            "Local Knowledge, Communities",
            "Local Knowledge, Communities",
            "Local Knowledge, Communities",
            "Local Knowledge, Communities",
            "Local Knowledge, Communities",
            "Local Knowledge, Communities",
            "Local Knowledge, Communities",
            "Local Knowledge, Communities",
            "Local Knowledge, Communities",
            "Local Knowledge, Communities",
            "Local Knowledge, Communities",
            "Local Knowledge, Communities",
            "Local Knowledge, Communities"
           ],
           "legendgroup": "",
           "locationmode": "country names",
           "locations": [
            "Australia",
            "Brazil",
            "Canada",
            "Chile",
            "Czech Republic",
            "Denmark",
            "England",
            "Finland",
            "France",
            "Germany",
            "Ghana",
            "Hungary",
            "India",
            "Indonesia",
            "Japan",
            "Malaysia",
            "Mexico",
            "Netherlands",
            "New Zealand",
            "Norway",
            "Peoples R China",
            "Poland",
            "Scotland",
            "Switzerland",
            "USA",
            "Zimbabwe"
           ],
           "marker": {
            "color": "#636efa",
            "size": [
             4,
             3,
             6,
             2,
             1,
             1,
             4,
             2,
             1,
             2,
             1,
             1,
             2,
             1,
             2,
             1,
             1,
             3,
             1,
             2,
             6,
             1,
             2,
             2,
             21,
             1
            ],
            "sizemode": "area",
            "sizeref": 0.1625,
            "symbol": "circle"
           },
           "mode": "markers",
           "name": "",
           "showlegend": false,
           "type": "scattergeo"
          }
         ],
         "name": "Local Knowledge, Communities"
        }
       ],
       "layout": {
        "geo": {
         "center": {},
         "domain": {
          "x": [
           0,
           1
          ],
          "y": [
           0,
           1
          ]
         }
        },
        "legend": {
         "itemsizing": "constant",
         "tracegroupgap": 0
        },
        "sliders": [
         {
          "active": 0,
          "currentvalue": {
           "prefix": "Dominant_Topic="
          },
          "len": 0.9,
          "pad": {
           "b": 10,
           "t": 60
          },
          "steps": [
           {
            "args": [
             [
              "Habitat Use, Distribution"
             ],
             {
              "frame": {
               "duration": 0,
               "redraw": true
              },
              "fromcurrent": true,
              "mode": "immediate",
              "transition": {
               "duration": 0,
               "easing": "linear"
              }
             }
            ],
            "label": "Habitat Use, Distribution",
            "method": "animate"
           },
           {
            "args": [
             [
              "Land Use, Forests"
             ],
             {
              "frame": {
               "duration": 0,
               "redraw": true
              },
              "fromcurrent": true,
              "mode": "immediate",
              "transition": {
               "duration": 0,
               "easing": "linear"
              }
             }
            ],
            "label": "Land Use, Forests",
            "method": "animate"
           },
           {
            "args": [
             [
              "Marine Area Protection, Management"
             ],
             {
              "frame": {
               "duration": 0,
               "redraw": true
              },
              "fromcurrent": true,
              "mode": "immediate",
              "transition": {
               "duration": 0,
               "easing": "linear"
              }
             }
            ],
            "label": "Marine Area Protection, Management",
            "method": "animate"
           },
           {
            "args": [
             [
              "Social Research"
             ],
             {
              "frame": {
               "duration": 0,
               "redraw": true
              },
              "fromcurrent": true,
              "mode": "immediate",
              "transition": {
               "duration": 0,
               "easing": "linear"
              }
             }
            ],
            "label": "Social Research",
            "method": "animate"
           },
           {
            "args": [
             [
              "Land Use, Urban"
             ],
             {
              "frame": {
               "duration": 0,
               "redraw": true
              },
              "fromcurrent": true,
              "mode": "immediate",
              "transition": {
               "duration": 0,
               "easing": "linear"
              }
             }
            ],
            "label": "Land Use, Urban",
            "method": "animate"
           },
           {
            "args": [
             [
              "Human-Wildlife Interface"
             ],
             {
              "frame": {
               "duration": 0,
               "redraw": true
              },
              "fromcurrent": true,
              "mode": "immediate",
              "transition": {
               "duration": 0,
               "easing": "linear"
              }
             }
            ],
            "label": "Human-Wildlife Interface",
            "method": "animate"
           },
           {
            "args": [
             [
              "Local Knowledge, Communities"
             ],
             {
              "frame": {
               "duration": 0,
               "redraw": true
              },
              "fromcurrent": true,
              "mode": "immediate",
              "transition": {
               "duration": 0,
               "easing": "linear"
              }
             }
            ],
            "label": "Local Knowledge, Communities",
            "method": "animate"
           }
          ],
          "x": 0.1,
          "xanchor": "left",
          "y": 0,
          "yanchor": "top"
         }
        ],
        "template": {
         "data": {
          "bar": [
           {
            "error_x": {
             "color": "#2a3f5f"
            },
            "error_y": {
             "color": "#2a3f5f"
            },
            "marker": {
             "line": {
              "color": "#E5ECF6",
              "width": 0.5
             },
             "pattern": {
              "fillmode": "overlay",
              "size": 10,
              "solidity": 0.2
             }
            },
            "type": "bar"
           }
          ],
          "barpolar": [
           {
            "marker": {
             "line": {
              "color": "#E5ECF6",
              "width": 0.5
             },
             "pattern": {
              "fillmode": "overlay",
              "size": 10,
              "solidity": 0.2
             }
            },
            "type": "barpolar"
           }
          ],
          "carpet": [
           {
            "aaxis": {
             "endlinecolor": "#2a3f5f",
             "gridcolor": "white",
             "linecolor": "white",
             "minorgridcolor": "white",
             "startlinecolor": "#2a3f5f"
            },
            "baxis": {
             "endlinecolor": "#2a3f5f",
             "gridcolor": "white",
             "linecolor": "white",
             "minorgridcolor": "white",
             "startlinecolor": "#2a3f5f"
            },
            "type": "carpet"
           }
          ],
          "choropleth": [
           {
            "colorbar": {
             "outlinewidth": 0,
             "ticks": ""
            },
            "type": "choropleth"
           }
          ],
          "contour": [
           {
            "colorbar": {
             "outlinewidth": 0,
             "ticks": ""
            },
            "colorscale": [
             [
              0,
              "#0d0887"
             ],
             [
              0.1111111111111111,
              "#46039f"
             ],
             [
              0.2222222222222222,
              "#7201a8"
             ],
             [
              0.3333333333333333,
              "#9c179e"
             ],
             [
              0.4444444444444444,
              "#bd3786"
             ],
             [
              0.5555555555555556,
              "#d8576b"
             ],
             [
              0.6666666666666666,
              "#ed7953"
             ],
             [
              0.7777777777777778,
              "#fb9f3a"
             ],
             [
              0.8888888888888888,
              "#fdca26"
             ],
             [
              1,
              "#f0f921"
             ]
            ],
            "type": "contour"
           }
          ],
          "contourcarpet": [
           {
            "colorbar": {
             "outlinewidth": 0,
             "ticks": ""
            },
            "type": "contourcarpet"
           }
          ],
          "heatmap": [
           {
            "colorbar": {
             "outlinewidth": 0,
             "ticks": ""
            },
            "colorscale": [
             [
              0,
              "#0d0887"
             ],
             [
              0.1111111111111111,
              "#46039f"
             ],
             [
              0.2222222222222222,
              "#7201a8"
             ],
             [
              0.3333333333333333,
              "#9c179e"
             ],
             [
              0.4444444444444444,
              "#bd3786"
             ],
             [
              0.5555555555555556,
              "#d8576b"
             ],
             [
              0.6666666666666666,
              "#ed7953"
             ],
             [
              0.7777777777777778,
              "#fb9f3a"
             ],
             [
              0.8888888888888888,
              "#fdca26"
             ],
             [
              1,
              "#f0f921"
             ]
            ],
            "type": "heatmap"
           }
          ],
          "heatmapgl": [
           {
            "colorbar": {
             "outlinewidth": 0,
             "ticks": ""
            },
            "colorscale": [
             [
              0,
              "#0d0887"
             ],
             [
              0.1111111111111111,
              "#46039f"
             ],
             [
              0.2222222222222222,
              "#7201a8"
             ],
             [
              0.3333333333333333,
              "#9c179e"
             ],
             [
              0.4444444444444444,
              "#bd3786"
             ],
             [
              0.5555555555555556,
              "#d8576b"
             ],
             [
              0.6666666666666666,
              "#ed7953"
             ],
             [
              0.7777777777777778,
              "#fb9f3a"
             ],
             [
              0.8888888888888888,
              "#fdca26"
             ],
             [
              1,
              "#f0f921"
             ]
            ],
            "type": "heatmapgl"
           }
          ],
          "histogram": [
           {
            "marker": {
             "pattern": {
              "fillmode": "overlay",
              "size": 10,
              "solidity": 0.2
             }
            },
            "type": "histogram"
           }
          ],
          "histogram2d": [
           {
            "colorbar": {
             "outlinewidth": 0,
             "ticks": ""
            },
            "colorscale": [
             [
              0,
              "#0d0887"
             ],
             [
              0.1111111111111111,
              "#46039f"
             ],
             [
              0.2222222222222222,
              "#7201a8"
             ],
             [
              0.3333333333333333,
              "#9c179e"
             ],
             [
              0.4444444444444444,
              "#bd3786"
             ],
             [
              0.5555555555555556,
              "#d8576b"
             ],
             [
              0.6666666666666666,
              "#ed7953"
             ],
             [
              0.7777777777777778,
              "#fb9f3a"
             ],
             [
              0.8888888888888888,
              "#fdca26"
             ],
             [
              1,
              "#f0f921"
             ]
            ],
            "type": "histogram2d"
           }
          ],
          "histogram2dcontour": [
           {
            "colorbar": {
             "outlinewidth": 0,
             "ticks": ""
            },
            "colorscale": [
             [
              0,
              "#0d0887"
             ],
             [
              0.1111111111111111,
              "#46039f"
             ],
             [
              0.2222222222222222,
              "#7201a8"
             ],
             [
              0.3333333333333333,
              "#9c179e"
             ],
             [
              0.4444444444444444,
              "#bd3786"
             ],
             [
              0.5555555555555556,
              "#d8576b"
             ],
             [
              0.6666666666666666,
              "#ed7953"
             ],
             [
              0.7777777777777778,
              "#fb9f3a"
             ],
             [
              0.8888888888888888,
              "#fdca26"
             ],
             [
              1,
              "#f0f921"
             ]
            ],
            "type": "histogram2dcontour"
           }
          ],
          "mesh3d": [
           {
            "colorbar": {
             "outlinewidth": 0,
             "ticks": ""
            },
            "type": "mesh3d"
           }
          ],
          "parcoords": [
           {
            "line": {
             "colorbar": {
              "outlinewidth": 0,
              "ticks": ""
             }
            },
            "type": "parcoords"
           }
          ],
          "pie": [
           {
            "automargin": true,
            "type": "pie"
           }
          ],
          "scatter": [
           {
            "fillpattern": {
             "fillmode": "overlay",
             "size": 10,
             "solidity": 0.2
            },
            "type": "scatter"
           }
          ],
          "scatter3d": [
           {
            "line": {
             "colorbar": {
              "outlinewidth": 0,
              "ticks": ""
             }
            },
            "marker": {
             "colorbar": {
              "outlinewidth": 0,
              "ticks": ""
             }
            },
            "type": "scatter3d"
           }
          ],
          "scattercarpet": [
           {
            "marker": {
             "colorbar": {
              "outlinewidth": 0,
              "ticks": ""
             }
            },
            "type": "scattercarpet"
           }
          ],
          "scattergeo": [
           {
            "marker": {
             "colorbar": {
              "outlinewidth": 0,
              "ticks": ""
             }
            },
            "type": "scattergeo"
           }
          ],
          "scattergl": [
           {
            "marker": {
             "colorbar": {
              "outlinewidth": 0,
              "ticks": ""
             }
            },
            "type": "scattergl"
           }
          ],
          "scattermapbox": [
           {
            "marker": {
             "colorbar": {
              "outlinewidth": 0,
              "ticks": ""
             }
            },
            "type": "scattermapbox"
           }
          ],
          "scatterpolar": [
           {
            "marker": {
             "colorbar": {
              "outlinewidth": 0,
              "ticks": ""
             }
            },
            "type": "scatterpolar"
           }
          ],
          "scatterpolargl": [
           {
            "marker": {
             "colorbar": {
              "outlinewidth": 0,
              "ticks": ""
             }
            },
            "type": "scatterpolargl"
           }
          ],
          "scatterternary": [
           {
            "marker": {
             "colorbar": {
              "outlinewidth": 0,
              "ticks": ""
             }
            },
            "type": "scatterternary"
           }
          ],
          "surface": [
           {
            "colorbar": {
             "outlinewidth": 0,
             "ticks": ""
            },
            "colorscale": [
             [
              0,
              "#0d0887"
             ],
             [
              0.1111111111111111,
              "#46039f"
             ],
             [
              0.2222222222222222,
              "#7201a8"
             ],
             [
              0.3333333333333333,
              "#9c179e"
             ],
             [
              0.4444444444444444,
              "#bd3786"
             ],
             [
              0.5555555555555556,
              "#d8576b"
             ],
             [
              0.6666666666666666,
              "#ed7953"
             ],
             [
              0.7777777777777778,
              "#fb9f3a"
             ],
             [
              0.8888888888888888,
              "#fdca26"
             ],
             [
              1,
              "#f0f921"
             ]
            ],
            "type": "surface"
           }
          ],
          "table": [
           {
            "cells": {
             "fill": {
              "color": "#EBF0F8"
             },
             "line": {
              "color": "white"
             }
            },
            "header": {
             "fill": {
              "color": "#C8D4E3"
             },
             "line": {
              "color": "white"
             }
            },
            "type": "table"
           }
          ]
         },
         "layout": {
          "annotationdefaults": {
           "arrowcolor": "#2a3f5f",
           "arrowhead": 0,
           "arrowwidth": 1
          },
          "autotypenumbers": "strict",
          "coloraxis": {
           "colorbar": {
            "outlinewidth": 0,
            "ticks": ""
           }
          },
          "colorscale": {
           "diverging": [
            [
             0,
             "#8e0152"
            ],
            [
             0.1,
             "#c51b7d"
            ],
            [
             0.2,
             "#de77ae"
            ],
            [
             0.3,
             "#f1b6da"
            ],
            [
             0.4,
             "#fde0ef"
            ],
            [
             0.5,
             "#f7f7f7"
            ],
            [
             0.6,
             "#e6f5d0"
            ],
            [
             0.7,
             "#b8e186"
            ],
            [
             0.8,
             "#7fbc41"
            ],
            [
             0.9,
             "#4d9221"
            ],
            [
             1,
             "#276419"
            ]
           ],
           "sequential": [
            [
             0,
             "#0d0887"
            ],
            [
             0.1111111111111111,
             "#46039f"
            ],
            [
             0.2222222222222222,
             "#7201a8"
            ],
            [
             0.3333333333333333,
             "#9c179e"
            ],
            [
             0.4444444444444444,
             "#bd3786"
            ],
            [
             0.5555555555555556,
             "#d8576b"
            ],
            [
             0.6666666666666666,
             "#ed7953"
            ],
            [
             0.7777777777777778,
             "#fb9f3a"
            ],
            [
             0.8888888888888888,
             "#fdca26"
            ],
            [
             1,
             "#f0f921"
            ]
           ],
           "sequentialminus": [
            [
             0,
             "#0d0887"
            ],
            [
             0.1111111111111111,
             "#46039f"
            ],
            [
             0.2222222222222222,
             "#7201a8"
            ],
            [
             0.3333333333333333,
             "#9c179e"
            ],
            [
             0.4444444444444444,
             "#bd3786"
            ],
            [
             0.5555555555555556,
             "#d8576b"
            ],
            [
             0.6666666666666666,
             "#ed7953"
            ],
            [
             0.7777777777777778,
             "#fb9f3a"
            ],
            [
             0.8888888888888888,
             "#fdca26"
            ],
            [
             1,
             "#f0f921"
            ]
           ]
          },
          "colorway": [
           "#636efa",
           "#EF553B",
           "#00cc96",
           "#ab63fa",
           "#FFA15A",
           "#19d3f3",
           "#FF6692",
           "#B6E880",
           "#FF97FF",
           "#FECB52"
          ],
          "font": {
           "color": "#2a3f5f"
          },
          "geo": {
           "bgcolor": "white",
           "lakecolor": "white",
           "landcolor": "#E5ECF6",
           "showlakes": true,
           "showland": true,
           "subunitcolor": "white"
          },
          "hoverlabel": {
           "align": "left"
          },
          "hovermode": "closest",
          "mapbox": {
           "style": "light"
          },
          "paper_bgcolor": "white",
          "plot_bgcolor": "#E5ECF6",
          "polar": {
           "angularaxis": {
            "gridcolor": "white",
            "linecolor": "white",
            "ticks": ""
           },
           "bgcolor": "#E5ECF6",
           "radialaxis": {
            "gridcolor": "white",
            "linecolor": "white",
            "ticks": ""
           }
          },
          "scene": {
           "xaxis": {
            "backgroundcolor": "#E5ECF6",
            "gridcolor": "white",
            "gridwidth": 2,
            "linecolor": "white",
            "showbackground": true,
            "ticks": "",
            "zerolinecolor": "white"
           },
           "yaxis": {
            "backgroundcolor": "#E5ECF6",
            "gridcolor": "white",
            "gridwidth": 2,
            "linecolor": "white",
            "showbackground": true,
            "ticks": "",
            "zerolinecolor": "white"
           },
           "zaxis": {
            "backgroundcolor": "#E5ECF6",
            "gridcolor": "white",
            "gridwidth": 2,
            "linecolor": "white",
            "showbackground": true,
            "ticks": "",
            "zerolinecolor": "white"
           }
          },
          "shapedefaults": {
           "line": {
            "color": "#2a3f5f"
           }
          },
          "ternary": {
           "aaxis": {
            "gridcolor": "white",
            "linecolor": "white",
            "ticks": ""
           },
           "baxis": {
            "gridcolor": "white",
            "linecolor": "white",
            "ticks": ""
           },
           "bgcolor": "#E5ECF6",
           "caxis": {
            "gridcolor": "white",
            "linecolor": "white",
            "ticks": ""
           }
          },
          "title": {
           "x": 0.05
          },
          "xaxis": {
           "automargin": true,
           "gridcolor": "white",
           "linecolor": "white",
           "ticks": "",
           "title": {
            "standoff": 15
           },
           "zerolinecolor": "white",
           "zerolinewidth": 2
          },
          "yaxis": {
           "automargin": true,
           "gridcolor": "white",
           "linecolor": "white",
           "ticks": "",
           "title": {
            "standoff": 15
           },
           "zerolinecolor": "white",
           "zerolinewidth": 2
          }
         }
        },
        "title": {
         "text": "Dominant Topics by Country"
        },
        "updatemenus": [
         {
          "buttons": [
           {
            "args": [
             null,
             {
              "frame": {
               "duration": 500,
               "redraw": true
              },
              "fromcurrent": true,
              "mode": "immediate",
              "transition": {
               "duration": 500,
               "easing": "linear"
              }
             }
            ],
            "label": "&#9654;",
            "method": "animate"
           },
           {
            "args": [
             [
              null
             ],
             {
              "frame": {
               "duration": 0,
               "redraw": true
              },
              "fromcurrent": true,
              "mode": "immediate",
              "transition": {
               "duration": 0,
               "easing": "linear"
              }
             }
            ],
            "label": "&#9724;",
            "method": "animate"
           }
          ],
          "direction": "left",
          "pad": {
           "r": 10,
           "t": 70
          },
          "showactive": false,
          "type": "buttons",
          "x": 0.1,
          "xanchor": "right",
          "y": 0,
          "yanchor": "top"
         }
        ]
       }
      },
      "text/html": [
       "<div>                            <div id=\"bf9f6a73-2235-4645-8573-d7d79833b5cf\" class=\"plotly-graph-div\" style=\"height:525px; width:100%;\"></div>            <script type=\"text/javascript\">                require([\"plotly\"], function(Plotly) {                    window.PLOTLYENV=window.PLOTLYENV || {};                                    if (document.getElementById(\"bf9f6a73-2235-4645-8573-d7d79833b5cf\")) {                    Plotly.newPlot(                        \"bf9f6a73-2235-4645-8573-d7d79833b5cf\",                        [{\"geo\":\"geo\",\"hovertemplate\":\"<b>%{hovertext}</b><br><br>Dominant_Topic=Habitat Use, Distribution<br>count=%{marker.size}<br>Country=%{location}<extra></extra>\",\"hovertext\":[\"Algeria\",\"Argentina\",\"Australia\",\"Austria\",\"Bangladesh\",\"Belgium\",\"Benin\",\"Brazil\",\"Bulgaria\",\"Canada\",\"Chile\",\"Colombia\",\"Country not found\",\"Croatia\",\"Cuba\",\"Czech Republic\",\"Denmark\",\"Ecuador\",\"England\",\"Ethiopia\",\"Finland\",\"France\",\"Georgia\",\"Germany\",\"Greece\",\"Hungary\",\"India\",\"Iran\",\"Ireland\",\"Israel\",\"Italy\",\"Japan\",\"Latvia\",\"Luxembourg\",\"Malaysia\",\"Mexico\",\"Morocco\",\"Myanmar\",\"Nepal\",\"Netherlands\",\"New Zealand\",\"Nigeria\",\"North Ireland\",\"Pakistan\",\"Peoples R China\",\"Poland\",\"Portugal\",\"Russia\",\"Scotland\",\"Senegal\",\"Singapore\",\"South Africa\",\"South Korea\",\"South Sudan\",\"Spain\",\"Sweden\",\"Switzerland\",\"Taiwan\",\"Tunisia\",\"Turkey\",\"USA\"],\"ids\":[\"Habitat Use, Distribution\",\"Habitat Use, Distribution\",\"Habitat Use, Distribution\",\"Habitat Use, Distribution\",\"Habitat Use, Distribution\",\"Habitat Use, Distribution\",\"Habitat Use, Distribution\",\"Habitat Use, Distribution\",\"Habitat Use, Distribution\",\"Habitat Use, Distribution\",\"Habitat Use, Distribution\",\"Habitat Use, Distribution\",\"Habitat Use, Distribution\",\"Habitat Use, Distribution\",\"Habitat Use, Distribution\",\"Habitat Use, Distribution\",\"Habitat Use, Distribution\",\"Habitat Use, Distribution\",\"Habitat Use, Distribution\",\"Habitat Use, Distribution\",\"Habitat Use, Distribution\",\"Habitat Use, Distribution\",\"Habitat Use, Distribution\",\"Habitat Use, Distribution\",\"Habitat Use, Distribution\",\"Habitat Use, Distribution\",\"Habitat Use, Distribution\",\"Habitat Use, Distribution\",\"Habitat Use, Distribution\",\"Habitat Use, Distribution\",\"Habitat Use, Distribution\",\"Habitat Use, Distribution\",\"Habitat Use, Distribution\",\"Habitat Use, Distribution\",\"Habitat Use, Distribution\",\"Habitat Use, Distribution\",\"Habitat Use, Distribution\",\"Habitat Use, Distribution\",\"Habitat Use, Distribution\",\"Habitat Use, Distribution\",\"Habitat Use, Distribution\",\"Habitat Use, Distribution\",\"Habitat Use, Distribution\",\"Habitat Use, Distribution\",\"Habitat Use, Distribution\",\"Habitat Use, Distribution\",\"Habitat Use, Distribution\",\"Habitat Use, Distribution\",\"Habitat Use, Distribution\",\"Habitat Use, Distribution\",\"Habitat Use, Distribution\",\"Habitat Use, Distribution\",\"Habitat Use, Distribution\",\"Habitat Use, Distribution\",\"Habitat Use, Distribution\",\"Habitat Use, Distribution\",\"Habitat Use, Distribution\",\"Habitat Use, Distribution\",\"Habitat Use, Distribution\",\"Habitat Use, Distribution\",\"Habitat Use, Distribution\"],\"legendgroup\":\"\",\"locationmode\":\"country names\",\"locations\":[\"Algeria\",\"Argentina\",\"Australia\",\"Austria\",\"Bangladesh\",\"Belgium\",\"Benin\",\"Brazil\",\"Bulgaria\",\"Canada\",\"Chile\",\"Colombia\",\"Country not found\",\"Croatia\",\"Cuba\",\"Czech Republic\",\"Denmark\",\"Ecuador\",\"England\",\"Ethiopia\",\"Finland\",\"France\",\"Georgia\",\"Germany\",\"Greece\",\"Hungary\",\"India\",\"Iran\",\"Ireland\",\"Israel\",\"Italy\",\"Japan\",\"Latvia\",\"Luxembourg\",\"Malaysia\",\"Mexico\",\"Morocco\",\"Myanmar\",\"Nepal\",\"Netherlands\",\"New Zealand\",\"Nigeria\",\"North Ireland\",\"Pakistan\",\"Peoples R China\",\"Poland\",\"Portugal\",\"Russia\",\"Scotland\",\"Senegal\",\"Singapore\",\"South Africa\",\"South Korea\",\"South Sudan\",\"Spain\",\"Sweden\",\"Switzerland\",\"Taiwan\",\"Tunisia\",\"Turkey\",\"USA\"],\"marker\":{\"color\":\"#636efa\",\"size\":[1,10,19,2,1,3,2,25,1,10,3,3,1,2,4,2,3,4,18,1,2,10,1,9,3,1,10,2,2,2,11,3,2,1,1,16,2,1,1,1,2,1,1,1,38,4,7,2,1,1,1,4,1,1,8,3,3,1,1,3,65],\"sizemode\":\"area\",\"sizeref\":0.1625,\"symbol\":\"circle\"},\"mode\":\"markers\",\"name\":\"\",\"showlegend\":false,\"type\":\"scattergeo\"}],                        {\"template\":{\"data\":{\"histogram2dcontour\":[{\"type\":\"histogram2dcontour\",\"colorbar\":{\"outlinewidth\":0,\"ticks\":\"\"},\"colorscale\":[[0.0,\"#0d0887\"],[0.1111111111111111,\"#46039f\"],[0.2222222222222222,\"#7201a8\"],[0.3333333333333333,\"#9c179e\"],[0.4444444444444444,\"#bd3786\"],[0.5555555555555556,\"#d8576b\"],[0.6666666666666666,\"#ed7953\"],[0.7777777777777778,\"#fb9f3a\"],[0.8888888888888888,\"#fdca26\"],[1.0,\"#f0f921\"]]}],\"choropleth\":[{\"type\":\"choropleth\",\"colorbar\":{\"outlinewidth\":0,\"ticks\":\"\"}}],\"histogram2d\":[{\"type\":\"histogram2d\",\"colorbar\":{\"outlinewidth\":0,\"ticks\":\"\"},\"colorscale\":[[0.0,\"#0d0887\"],[0.1111111111111111,\"#46039f\"],[0.2222222222222222,\"#7201a8\"],[0.3333333333333333,\"#9c179e\"],[0.4444444444444444,\"#bd3786\"],[0.5555555555555556,\"#d8576b\"],[0.6666666666666666,\"#ed7953\"],[0.7777777777777778,\"#fb9f3a\"],[0.8888888888888888,\"#fdca26\"],[1.0,\"#f0f921\"]]}],\"heatmap\":[{\"type\":\"heatmap\",\"colorbar\":{\"outlinewidth\":0,\"ticks\":\"\"},\"colorscale\":[[0.0,\"#0d0887\"],[0.1111111111111111,\"#46039f\"],[0.2222222222222222,\"#7201a8\"],[0.3333333333333333,\"#9c179e\"],[0.4444444444444444,\"#bd3786\"],[0.5555555555555556,\"#d8576b\"],[0.6666666666666666,\"#ed7953\"],[0.7777777777777778,\"#fb9f3a\"],[0.8888888888888888,\"#fdca26\"],[1.0,\"#f0f921\"]]}],\"heatmapgl\":[{\"type\":\"heatmapgl\",\"colorbar\":{\"outlinewidth\":0,\"ticks\":\"\"},\"colorscale\":[[0.0,\"#0d0887\"],[0.1111111111111111,\"#46039f\"],[0.2222222222222222,\"#7201a8\"],[0.3333333333333333,\"#9c179e\"],[0.4444444444444444,\"#bd3786\"],[0.5555555555555556,\"#d8576b\"],[0.6666666666666666,\"#ed7953\"],[0.7777777777777778,\"#fb9f3a\"],[0.8888888888888888,\"#fdca26\"],[1.0,\"#f0f921\"]]}],\"contourcarpet\":[{\"type\":\"contourcarpet\",\"colorbar\":{\"outlinewidth\":0,\"ticks\":\"\"}}],\"contour\":[{\"type\":\"contour\",\"colorbar\":{\"outlinewidth\":0,\"ticks\":\"\"},\"colorscale\":[[0.0,\"#0d0887\"],[0.1111111111111111,\"#46039f\"],[0.2222222222222222,\"#7201a8\"],[0.3333333333333333,\"#9c179e\"],[0.4444444444444444,\"#bd3786\"],[0.5555555555555556,\"#d8576b\"],[0.6666666666666666,\"#ed7953\"],[0.7777777777777778,\"#fb9f3a\"],[0.8888888888888888,\"#fdca26\"],[1.0,\"#f0f921\"]]}],\"surface\":[{\"type\":\"surface\",\"colorbar\":{\"outlinewidth\":0,\"ticks\":\"\"},\"colorscale\":[[0.0,\"#0d0887\"],[0.1111111111111111,\"#46039f\"],[0.2222222222222222,\"#7201a8\"],[0.3333333333333333,\"#9c179e\"],[0.4444444444444444,\"#bd3786\"],[0.5555555555555556,\"#d8576b\"],[0.6666666666666666,\"#ed7953\"],[0.7777777777777778,\"#fb9f3a\"],[0.8888888888888888,\"#fdca26\"],[1.0,\"#f0f921\"]]}],\"mesh3d\":[{\"type\":\"mesh3d\",\"colorbar\":{\"outlinewidth\":0,\"ticks\":\"\"}}],\"scatter\":[{\"fillpattern\":{\"fillmode\":\"overlay\",\"size\":10,\"solidity\":0.2},\"type\":\"scatter\"}],\"parcoords\":[{\"type\":\"parcoords\",\"line\":{\"colorbar\":{\"outlinewidth\":0,\"ticks\":\"\"}}}],\"scatterpolargl\":[{\"type\":\"scatterpolargl\",\"marker\":{\"colorbar\":{\"outlinewidth\":0,\"ticks\":\"\"}}}],\"bar\":[{\"error_x\":{\"color\":\"#2a3f5f\"},\"error_y\":{\"color\":\"#2a3f5f\"},\"marker\":{\"line\":{\"color\":\"#E5ECF6\",\"width\":0.5},\"pattern\":{\"fillmode\":\"overlay\",\"size\":10,\"solidity\":0.2}},\"type\":\"bar\"}],\"scattergeo\":[{\"type\":\"scattergeo\",\"marker\":{\"colorbar\":{\"outlinewidth\":0,\"ticks\":\"\"}}}],\"scatterpolar\":[{\"type\":\"scatterpolar\",\"marker\":{\"colorbar\":{\"outlinewidth\":0,\"ticks\":\"\"}}}],\"histogram\":[{\"marker\":{\"pattern\":{\"fillmode\":\"overlay\",\"size\":10,\"solidity\":0.2}},\"type\":\"histogram\"}],\"scattergl\":[{\"type\":\"scattergl\",\"marker\":{\"colorbar\":{\"outlinewidth\":0,\"ticks\":\"\"}}}],\"scatter3d\":[{\"type\":\"scatter3d\",\"line\":{\"colorbar\":{\"outlinewidth\":0,\"ticks\":\"\"}},\"marker\":{\"colorbar\":{\"outlinewidth\":0,\"ticks\":\"\"}}}],\"scattermapbox\":[{\"type\":\"scattermapbox\",\"marker\":{\"colorbar\":{\"outlinewidth\":0,\"ticks\":\"\"}}}],\"scatterternary\":[{\"type\":\"scatterternary\",\"marker\":{\"colorbar\":{\"outlinewidth\":0,\"ticks\":\"\"}}}],\"scattercarpet\":[{\"type\":\"scattercarpet\",\"marker\":{\"colorbar\":{\"outlinewidth\":0,\"ticks\":\"\"}}}],\"carpet\":[{\"aaxis\":{\"endlinecolor\":\"#2a3f5f\",\"gridcolor\":\"white\",\"linecolor\":\"white\",\"minorgridcolor\":\"white\",\"startlinecolor\":\"#2a3f5f\"},\"baxis\":{\"endlinecolor\":\"#2a3f5f\",\"gridcolor\":\"white\",\"linecolor\":\"white\",\"minorgridcolor\":\"white\",\"startlinecolor\":\"#2a3f5f\"},\"type\":\"carpet\"}],\"table\":[{\"cells\":{\"fill\":{\"color\":\"#EBF0F8\"},\"line\":{\"color\":\"white\"}},\"header\":{\"fill\":{\"color\":\"#C8D4E3\"},\"line\":{\"color\":\"white\"}},\"type\":\"table\"}],\"barpolar\":[{\"marker\":{\"line\":{\"color\":\"#E5ECF6\",\"width\":0.5},\"pattern\":{\"fillmode\":\"overlay\",\"size\":10,\"solidity\":0.2}},\"type\":\"barpolar\"}],\"pie\":[{\"automargin\":true,\"type\":\"pie\"}]},\"layout\":{\"autotypenumbers\":\"strict\",\"colorway\":[\"#636efa\",\"#EF553B\",\"#00cc96\",\"#ab63fa\",\"#FFA15A\",\"#19d3f3\",\"#FF6692\",\"#B6E880\",\"#FF97FF\",\"#FECB52\"],\"font\":{\"color\":\"#2a3f5f\"},\"hovermode\":\"closest\",\"hoverlabel\":{\"align\":\"left\"},\"paper_bgcolor\":\"white\",\"plot_bgcolor\":\"#E5ECF6\",\"polar\":{\"bgcolor\":\"#E5ECF6\",\"angularaxis\":{\"gridcolor\":\"white\",\"linecolor\":\"white\",\"ticks\":\"\"},\"radialaxis\":{\"gridcolor\":\"white\",\"linecolor\":\"white\",\"ticks\":\"\"}},\"ternary\":{\"bgcolor\":\"#E5ECF6\",\"aaxis\":{\"gridcolor\":\"white\",\"linecolor\":\"white\",\"ticks\":\"\"},\"baxis\":{\"gridcolor\":\"white\",\"linecolor\":\"white\",\"ticks\":\"\"},\"caxis\":{\"gridcolor\":\"white\",\"linecolor\":\"white\",\"ticks\":\"\"}},\"coloraxis\":{\"colorbar\":{\"outlinewidth\":0,\"ticks\":\"\"}},\"colorscale\":{\"sequential\":[[0.0,\"#0d0887\"],[0.1111111111111111,\"#46039f\"],[0.2222222222222222,\"#7201a8\"],[0.3333333333333333,\"#9c179e\"],[0.4444444444444444,\"#bd3786\"],[0.5555555555555556,\"#d8576b\"],[0.6666666666666666,\"#ed7953\"],[0.7777777777777778,\"#fb9f3a\"],[0.8888888888888888,\"#fdca26\"],[1.0,\"#f0f921\"]],\"sequentialminus\":[[0.0,\"#0d0887\"],[0.1111111111111111,\"#46039f\"],[0.2222222222222222,\"#7201a8\"],[0.3333333333333333,\"#9c179e\"],[0.4444444444444444,\"#bd3786\"],[0.5555555555555556,\"#d8576b\"],[0.6666666666666666,\"#ed7953\"],[0.7777777777777778,\"#fb9f3a\"],[0.8888888888888888,\"#fdca26\"],[1.0,\"#f0f921\"]],\"diverging\":[[0,\"#8e0152\"],[0.1,\"#c51b7d\"],[0.2,\"#de77ae\"],[0.3,\"#f1b6da\"],[0.4,\"#fde0ef\"],[0.5,\"#f7f7f7\"],[0.6,\"#e6f5d0\"],[0.7,\"#b8e186\"],[0.8,\"#7fbc41\"],[0.9,\"#4d9221\"],[1,\"#276419\"]]},\"xaxis\":{\"gridcolor\":\"white\",\"linecolor\":\"white\",\"ticks\":\"\",\"title\":{\"standoff\":15},\"zerolinecolor\":\"white\",\"automargin\":true,\"zerolinewidth\":2},\"yaxis\":{\"gridcolor\":\"white\",\"linecolor\":\"white\",\"ticks\":\"\",\"title\":{\"standoff\":15},\"zerolinecolor\":\"white\",\"automargin\":true,\"zerolinewidth\":2},\"scene\":{\"xaxis\":{\"backgroundcolor\":\"#E5ECF6\",\"gridcolor\":\"white\",\"linecolor\":\"white\",\"showbackground\":true,\"ticks\":\"\",\"zerolinecolor\":\"white\",\"gridwidth\":2},\"yaxis\":{\"backgroundcolor\":\"#E5ECF6\",\"gridcolor\":\"white\",\"linecolor\":\"white\",\"showbackground\":true,\"ticks\":\"\",\"zerolinecolor\":\"white\",\"gridwidth\":2},\"zaxis\":{\"backgroundcolor\":\"#E5ECF6\",\"gridcolor\":\"white\",\"linecolor\":\"white\",\"showbackground\":true,\"ticks\":\"\",\"zerolinecolor\":\"white\",\"gridwidth\":2}},\"shapedefaults\":{\"line\":{\"color\":\"#2a3f5f\"}},\"annotationdefaults\":{\"arrowcolor\":\"#2a3f5f\",\"arrowhead\":0,\"arrowwidth\":1},\"geo\":{\"bgcolor\":\"white\",\"landcolor\":\"#E5ECF6\",\"subunitcolor\":\"white\",\"showland\":true,\"showlakes\":true,\"lakecolor\":\"white\"},\"title\":{\"x\":0.05},\"mapbox\":{\"style\":\"light\"}}},\"geo\":{\"domain\":{\"x\":[0.0,1.0],\"y\":[0.0,1.0]},\"center\":{}},\"legend\":{\"tracegroupgap\":0,\"itemsizing\":\"constant\"},\"title\":{\"text\":\"Dominant Topics by Country\"},\"updatemenus\":[{\"buttons\":[{\"args\":[null,{\"frame\":{\"duration\":500,\"redraw\":true},\"mode\":\"immediate\",\"fromcurrent\":true,\"transition\":{\"duration\":500,\"easing\":\"linear\"}}],\"label\":\"&#9654;\",\"method\":\"animate\"},{\"args\":[[null],{\"frame\":{\"duration\":0,\"redraw\":true},\"mode\":\"immediate\",\"fromcurrent\":true,\"transition\":{\"duration\":0,\"easing\":\"linear\"}}],\"label\":\"&#9724;\",\"method\":\"animate\"}],\"direction\":\"left\",\"pad\":{\"r\":10,\"t\":70},\"showactive\":false,\"type\":\"buttons\",\"x\":0.1,\"xanchor\":\"right\",\"y\":0,\"yanchor\":\"top\"}],\"sliders\":[{\"active\":0,\"currentvalue\":{\"prefix\":\"Dominant_Topic=\"},\"len\":0.9,\"pad\":{\"b\":10,\"t\":60},\"steps\":[{\"args\":[[\"Habitat Use, Distribution\"],{\"frame\":{\"duration\":0,\"redraw\":true},\"mode\":\"immediate\",\"fromcurrent\":true,\"transition\":{\"duration\":0,\"easing\":\"linear\"}}],\"label\":\"Habitat Use, Distribution\",\"method\":\"animate\"},{\"args\":[[\"Land Use, Forests\"],{\"frame\":{\"duration\":0,\"redraw\":true},\"mode\":\"immediate\",\"fromcurrent\":true,\"transition\":{\"duration\":0,\"easing\":\"linear\"}}],\"label\":\"Land Use, Forests\",\"method\":\"animate\"},{\"args\":[[\"Marine Area Protection, Management\"],{\"frame\":{\"duration\":0,\"redraw\":true},\"mode\":\"immediate\",\"fromcurrent\":true,\"transition\":{\"duration\":0,\"easing\":\"linear\"}}],\"label\":\"Marine Area Protection, Management\",\"method\":\"animate\"},{\"args\":[[\"Social Research\"],{\"frame\":{\"duration\":0,\"redraw\":true},\"mode\":\"immediate\",\"fromcurrent\":true,\"transition\":{\"duration\":0,\"easing\":\"linear\"}}],\"label\":\"Social Research\",\"method\":\"animate\"},{\"args\":[[\"Land Use, Urban\"],{\"frame\":{\"duration\":0,\"redraw\":true},\"mode\":\"immediate\",\"fromcurrent\":true,\"transition\":{\"duration\":0,\"easing\":\"linear\"}}],\"label\":\"Land Use, Urban\",\"method\":\"animate\"},{\"args\":[[\"Human-Wildlife Interface\"],{\"frame\":{\"duration\":0,\"redraw\":true},\"mode\":\"immediate\",\"fromcurrent\":true,\"transition\":{\"duration\":0,\"easing\":\"linear\"}}],\"label\":\"Human-Wildlife Interface\",\"method\":\"animate\"},{\"args\":[[\"Local Knowledge, Communities\"],{\"frame\":{\"duration\":0,\"redraw\":true},\"mode\":\"immediate\",\"fromcurrent\":true,\"transition\":{\"duration\":0,\"easing\":\"linear\"}}],\"label\":\"Local Knowledge, Communities\",\"method\":\"animate\"}],\"x\":0.1,\"xanchor\":\"left\",\"y\":0,\"yanchor\":\"top\"}]},                        {\"responsive\": true}                    ).then(function(){\n",
       "                            Plotly.addFrames('bf9f6a73-2235-4645-8573-d7d79833b5cf', [{\"data\":[{\"geo\":\"geo\",\"hovertemplate\":\"<b>%{hovertext}</b><br><br>Dominant_Topic=Habitat Use, Distribution<br>count=%{marker.size}<br>Country=%{location}<extra></extra>\",\"hovertext\":[\"Algeria\",\"Argentina\",\"Australia\",\"Austria\",\"Bangladesh\",\"Belgium\",\"Benin\",\"Brazil\",\"Bulgaria\",\"Canada\",\"Chile\",\"Colombia\",\"Country not found\",\"Croatia\",\"Cuba\",\"Czech Republic\",\"Denmark\",\"Ecuador\",\"England\",\"Ethiopia\",\"Finland\",\"France\",\"Georgia\",\"Germany\",\"Greece\",\"Hungary\",\"India\",\"Iran\",\"Ireland\",\"Israel\",\"Italy\",\"Japan\",\"Latvia\",\"Luxembourg\",\"Malaysia\",\"Mexico\",\"Morocco\",\"Myanmar\",\"Nepal\",\"Netherlands\",\"New Zealand\",\"Nigeria\",\"North Ireland\",\"Pakistan\",\"Peoples R China\",\"Poland\",\"Portugal\",\"Russia\",\"Scotland\",\"Senegal\",\"Singapore\",\"South Africa\",\"South Korea\",\"South Sudan\",\"Spain\",\"Sweden\",\"Switzerland\",\"Taiwan\",\"Tunisia\",\"Turkey\",\"USA\"],\"ids\":[\"Habitat Use, Distribution\",\"Habitat Use, Distribution\",\"Habitat Use, Distribution\",\"Habitat Use, Distribution\",\"Habitat Use, Distribution\",\"Habitat Use, Distribution\",\"Habitat Use, Distribution\",\"Habitat Use, Distribution\",\"Habitat Use, Distribution\",\"Habitat Use, Distribution\",\"Habitat Use, Distribution\",\"Habitat Use, Distribution\",\"Habitat Use, Distribution\",\"Habitat Use, Distribution\",\"Habitat Use, Distribution\",\"Habitat Use, Distribution\",\"Habitat Use, Distribution\",\"Habitat Use, Distribution\",\"Habitat Use, Distribution\",\"Habitat Use, Distribution\",\"Habitat Use, Distribution\",\"Habitat Use, Distribution\",\"Habitat Use, Distribution\",\"Habitat Use, Distribution\",\"Habitat Use, Distribution\",\"Habitat Use, Distribution\",\"Habitat Use, Distribution\",\"Habitat Use, Distribution\",\"Habitat Use, Distribution\",\"Habitat Use, Distribution\",\"Habitat Use, Distribution\",\"Habitat Use, Distribution\",\"Habitat Use, Distribution\",\"Habitat Use, Distribution\",\"Habitat Use, Distribution\",\"Habitat Use, Distribution\",\"Habitat Use, Distribution\",\"Habitat Use, Distribution\",\"Habitat Use, Distribution\",\"Habitat Use, Distribution\",\"Habitat Use, Distribution\",\"Habitat Use, Distribution\",\"Habitat Use, Distribution\",\"Habitat Use, Distribution\",\"Habitat Use, Distribution\",\"Habitat Use, Distribution\",\"Habitat Use, Distribution\",\"Habitat Use, Distribution\",\"Habitat Use, Distribution\",\"Habitat Use, Distribution\",\"Habitat Use, Distribution\",\"Habitat Use, Distribution\",\"Habitat Use, Distribution\",\"Habitat Use, Distribution\",\"Habitat Use, Distribution\",\"Habitat Use, Distribution\",\"Habitat Use, Distribution\",\"Habitat Use, Distribution\",\"Habitat Use, Distribution\",\"Habitat Use, Distribution\",\"Habitat Use, Distribution\"],\"legendgroup\":\"\",\"locationmode\":\"country names\",\"locations\":[\"Algeria\",\"Argentina\",\"Australia\",\"Austria\",\"Bangladesh\",\"Belgium\",\"Benin\",\"Brazil\",\"Bulgaria\",\"Canada\",\"Chile\",\"Colombia\",\"Country not found\",\"Croatia\",\"Cuba\",\"Czech Republic\",\"Denmark\",\"Ecuador\",\"England\",\"Ethiopia\",\"Finland\",\"France\",\"Georgia\",\"Germany\",\"Greece\",\"Hungary\",\"India\",\"Iran\",\"Ireland\",\"Israel\",\"Italy\",\"Japan\",\"Latvia\",\"Luxembourg\",\"Malaysia\",\"Mexico\",\"Morocco\",\"Myanmar\",\"Nepal\",\"Netherlands\",\"New Zealand\",\"Nigeria\",\"North Ireland\",\"Pakistan\",\"Peoples R China\",\"Poland\",\"Portugal\",\"Russia\",\"Scotland\",\"Senegal\",\"Singapore\",\"South Africa\",\"South Korea\",\"South Sudan\",\"Spain\",\"Sweden\",\"Switzerland\",\"Taiwan\",\"Tunisia\",\"Turkey\",\"USA\"],\"marker\":{\"color\":\"#636efa\",\"size\":[1,10,19,2,1,3,2,25,1,10,3,3,1,2,4,2,3,4,18,1,2,10,1,9,3,1,10,2,2,2,11,3,2,1,1,16,2,1,1,1,2,1,1,1,38,4,7,2,1,1,1,4,1,1,8,3,3,1,1,3,65],\"sizemode\":\"area\",\"sizeref\":0.1625,\"symbol\":\"circle\"},\"mode\":\"markers\",\"name\":\"\",\"showlegend\":false,\"type\":\"scattergeo\"}],\"name\":\"Habitat Use, Distribution\"},{\"data\":[{\"geo\":\"geo\",\"hovertemplate\":\"<b>%{hovertext}</b><br><br>Dominant_Topic=Land Use, Forests<br>count=%{marker.size}<br>Country=%{location}<extra></extra>\",\"hovertext\":[\"Argentina\",\"Australia\",\"Bhutan\",\"Brazil\",\"Canada\",\"England\",\"Ethiopia\",\"Finland\",\"France\",\"Germany\",\"India\",\"Indonesia\",\"Italy\",\"Japan\",\"Kenya\",\"Mali\",\"Mexico\",\"Mozambique\",\"Myanmar\",\"Nepal\",\"Netherlands\",\"New Zealand\",\"Nigeria\",\"Peoples R China\",\"Poland\",\"Romania\",\"Rwanda\",\"Saudi Arabia\",\"Scotland\",\"South Africa\",\"South Korea\",\"Spain\",\"Sweden\",\"Switzerland\",\"USA\",\"Zimbabwe\"],\"ids\":[\"Land Use, Forests\",\"Land Use, Forests\",\"Land Use, Forests\",\"Land Use, Forests\",\"Land Use, Forests\",\"Land Use, Forests\",\"Land Use, Forests\",\"Land Use, Forests\",\"Land Use, Forests\",\"Land Use, Forests\",\"Land Use, Forests\",\"Land Use, Forests\",\"Land Use, Forests\",\"Land Use, Forests\",\"Land Use, Forests\",\"Land Use, Forests\",\"Land Use, Forests\",\"Land Use, Forests\",\"Land Use, Forests\",\"Land Use, Forests\",\"Land Use, Forests\",\"Land Use, Forests\",\"Land Use, Forests\",\"Land Use, Forests\",\"Land Use, Forests\",\"Land Use, Forests\",\"Land Use, Forests\",\"Land Use, Forests\",\"Land Use, Forests\",\"Land Use, Forests\",\"Land Use, Forests\",\"Land Use, Forests\",\"Land Use, Forests\",\"Land Use, Forests\",\"Land Use, Forests\",\"Land Use, Forests\"],\"legendgroup\":\"\",\"locationmode\":\"country names\",\"locations\":[\"Argentina\",\"Australia\",\"Bhutan\",\"Brazil\",\"Canada\",\"England\",\"Ethiopia\",\"Finland\",\"France\",\"Germany\",\"India\",\"Indonesia\",\"Italy\",\"Japan\",\"Kenya\",\"Mali\",\"Mexico\",\"Mozambique\",\"Myanmar\",\"Nepal\",\"Netherlands\",\"New Zealand\",\"Nigeria\",\"Peoples R China\",\"Poland\",\"Romania\",\"Rwanda\",\"Saudi Arabia\",\"Scotland\",\"South Africa\",\"South Korea\",\"Spain\",\"Sweden\",\"Switzerland\",\"USA\",\"Zimbabwe\"],\"marker\":{\"color\":\"#636efa\",\"size\":[1,7,1,11,5,3,1,2,3,11,11,1,2,2,4,1,1,1,1,1,1,1,1,39,1,1,1,2,1,5,1,3,5,1,23,2],\"sizemode\":\"area\",\"sizeref\":0.1625,\"symbol\":\"circle\"},\"mode\":\"markers\",\"name\":\"\",\"showlegend\":false,\"type\":\"scattergeo\"}],\"name\":\"Land Use, Forests\"},{\"data\":[{\"geo\":\"geo\",\"hovertemplate\":\"<b>%{hovertext}</b><br><br>Dominant_Topic=Marine Area Protection, Management<br>count=%{marker.size}<br>Country=%{location}<extra></extra>\",\"hovertext\":[\"Argentina\",\"Australia\",\"Bangladesh\",\"Brazil\",\"Canada\",\"Colombia\",\"Ecuador\",\"England\",\"Finland\",\"France\",\"Germany\",\"India\",\"Indonesia\",\"Ireland\",\"Israel\",\"Italy\",\"Japan\",\"Malaysia\",\"Mexico\",\"Pakistan\",\"Peoples R China\",\"Portugal\",\"South Africa\",\"Spain\",\"Taiwan\",\"USA\",\"Uruguay\"],\"ids\":[\"Marine Area Protection, Management\",\"Marine Area Protection, Management\",\"Marine Area Protection, Management\",\"Marine Area Protection, Management\",\"Marine Area Protection, Management\",\"Marine Area Protection, Management\",\"Marine Area Protection, Management\",\"Marine Area Protection, Management\",\"Marine Area Protection, Management\",\"Marine Area Protection, Management\",\"Marine Area Protection, Management\",\"Marine Area Protection, Management\",\"Marine Area Protection, Management\",\"Marine Area Protection, Management\",\"Marine Area Protection, Management\",\"Marine Area Protection, Management\",\"Marine Area Protection, Management\",\"Marine Area Protection, Management\",\"Marine Area Protection, Management\",\"Marine Area Protection, Management\",\"Marine Area Protection, Management\",\"Marine Area Protection, Management\",\"Marine Area Protection, Management\",\"Marine Area Protection, Management\",\"Marine Area Protection, Management\",\"Marine Area Protection, Management\",\"Marine Area Protection, Management\"],\"legendgroup\":\"\",\"locationmode\":\"country names\",\"locations\":[\"Argentina\",\"Australia\",\"Bangladesh\",\"Brazil\",\"Canada\",\"Colombia\",\"Ecuador\",\"England\",\"Finland\",\"France\",\"Germany\",\"India\",\"Indonesia\",\"Ireland\",\"Israel\",\"Italy\",\"Japan\",\"Malaysia\",\"Mexico\",\"Pakistan\",\"Peoples R China\",\"Portugal\",\"South Africa\",\"Spain\",\"Taiwan\",\"USA\",\"Uruguay\"],\"marker\":{\"color\":\"#636efa\",\"size\":[1,13,1,11,9,2,1,4,1,3,1,1,1,1,1,1,1,2,4,1,11,2,4,3,1,12,1],\"sizemode\":\"area\",\"sizeref\":0.1625,\"symbol\":\"circle\"},\"mode\":\"markers\",\"name\":\"\",\"showlegend\":false,\"type\":\"scattergeo\"}],\"name\":\"Marine Area Protection, Management\"},{\"data\":[{\"geo\":\"geo\",\"hovertemplate\":\"<b>%{hovertext}</b><br><br>Dominant_Topic=Social Research<br>count=%{marker.size}<br>Country=%{location}<extra></extra>\",\"hovertext\":[\"Argentina\",\"Australia\",\"Belgium\",\"Brazil\",\"Canada\",\"Colombia\",\"Denmark\",\"England\",\"Finland\",\"France\",\"Germany\",\"Hungary\",\"India\",\"Indonesia\",\"Israel\",\"Italy\",\"Japan\",\"Kenya\",\"Mexico\",\"New Zealand\",\"Peoples R China\",\"Portugal\",\"Scotland\",\"Singapore\",\"Slovenia\",\"South Africa\",\"Spain\",\"Sweden\",\"Switzerland\",\"USA\"],\"ids\":[\"Social Research\",\"Social Research\",\"Social Research\",\"Social Research\",\"Social Research\",\"Social Research\",\"Social Research\",\"Social Research\",\"Social Research\",\"Social Research\",\"Social Research\",\"Social Research\",\"Social Research\",\"Social Research\",\"Social Research\",\"Social Research\",\"Social Research\",\"Social Research\",\"Social Research\",\"Social Research\",\"Social Research\",\"Social Research\",\"Social Research\",\"Social Research\",\"Social Research\",\"Social Research\",\"Social Research\",\"Social Research\",\"Social Research\",\"Social Research\"],\"legendgroup\":\"\",\"locationmode\":\"country names\",\"locations\":[\"Argentina\",\"Australia\",\"Belgium\",\"Brazil\",\"Canada\",\"Colombia\",\"Denmark\",\"England\",\"Finland\",\"France\",\"Germany\",\"Hungary\",\"India\",\"Indonesia\",\"Israel\",\"Italy\",\"Japan\",\"Kenya\",\"Mexico\",\"New Zealand\",\"Peoples R China\",\"Portugal\",\"Scotland\",\"Singapore\",\"Slovenia\",\"South Africa\",\"Spain\",\"Sweden\",\"Switzerland\",\"USA\"],\"marker\":{\"color\":\"#636efa\",\"size\":[1,19,3,8,13,1,1,15,2,6,7,2,2,1,1,4,3,1,3,5,3,1,1,1,1,6,2,1,2,56],\"sizemode\":\"area\",\"sizeref\":0.1625,\"symbol\":\"circle\"},\"mode\":\"markers\",\"name\":\"\",\"showlegend\":false,\"type\":\"scattergeo\"}],\"name\":\"Social Research\"},{\"data\":[{\"geo\":\"geo\",\"hovertemplate\":\"<b>%{hovertext}</b><br><br>Dominant_Topic=Land Use, Urban<br>count=%{marker.size}<br>Country=%{location}<extra></extra>\",\"hovertext\":[\"Australia\",\"Benin\",\"Brazil\",\"Canada\",\"Chile\",\"Czech Republic\",\"England\",\"Finland\",\"France\",\"Germany\",\"India\",\"Iran\",\"Israel\",\"Japan\",\"Pakistan\",\"Peoples R China\",\"Serbia\",\"Singapore\",\"South Africa\",\"South Korea\",\"Spain\",\"Sweden\",\"Taiwan\",\"Thailand\",\"Turkey\",\"USA\"],\"ids\":[\"Land Use, Urban\",\"Land Use, Urban\",\"Land Use, Urban\",\"Land Use, Urban\",\"Land Use, Urban\",\"Land Use, Urban\",\"Land Use, Urban\",\"Land Use, Urban\",\"Land Use, Urban\",\"Land Use, Urban\",\"Land Use, Urban\",\"Land Use, Urban\",\"Land Use, Urban\",\"Land Use, Urban\",\"Land Use, Urban\",\"Land Use, Urban\",\"Land Use, Urban\",\"Land Use, Urban\",\"Land Use, Urban\",\"Land Use, Urban\",\"Land Use, Urban\",\"Land Use, Urban\",\"Land Use, Urban\",\"Land Use, Urban\",\"Land Use, Urban\",\"Land Use, Urban\"],\"legendgroup\":\"\",\"locationmode\":\"country names\",\"locations\":[\"Australia\",\"Benin\",\"Brazil\",\"Canada\",\"Chile\",\"Czech Republic\",\"England\",\"Finland\",\"France\",\"Germany\",\"India\",\"Iran\",\"Israel\",\"Japan\",\"Pakistan\",\"Peoples R China\",\"Serbia\",\"Singapore\",\"South Africa\",\"South Korea\",\"Spain\",\"Sweden\",\"Taiwan\",\"Thailand\",\"Turkey\",\"USA\"],\"marker\":{\"color\":\"#636efa\",\"size\":[7,1,2,3,1,1,1,2,2,2,3,2,1,2,1,42,1,1,1,2,2,1,1,1,1,18],\"sizemode\":\"area\",\"sizeref\":0.1625,\"symbol\":\"circle\"},\"mode\":\"markers\",\"name\":\"\",\"showlegend\":false,\"type\":\"scattergeo\"}],\"name\":\"Land Use, Urban\"},{\"data\":[{\"geo\":\"geo\",\"hovertemplate\":\"<b>%{hovertext}</b><br><br>Dominant_Topic=Human-Wildlife Interface<br>count=%{marker.size}<br>Country=%{location}<extra></extra>\",\"hovertext\":[\"Australia\",\"Brazil\",\"Canada\",\"England\",\"Ethiopia\",\"France\",\"Germany\",\"Greece\",\"India\",\"Indonesia\",\"Iran\",\"Italy\",\"Norway\",\"Peoples R China\",\"Portugal\",\"Scotland\",\"Switzerland\",\"Taiwan\",\"USA\"],\"ids\":[\"Human-Wildlife Interface\",\"Human-Wildlife Interface\",\"Human-Wildlife Interface\",\"Human-Wildlife Interface\",\"Human-Wildlife Interface\",\"Human-Wildlife Interface\",\"Human-Wildlife Interface\",\"Human-Wildlife Interface\",\"Human-Wildlife Interface\",\"Human-Wildlife Interface\",\"Human-Wildlife Interface\",\"Human-Wildlife Interface\",\"Human-Wildlife Interface\",\"Human-Wildlife Interface\",\"Human-Wildlife Interface\",\"Human-Wildlife Interface\",\"Human-Wildlife Interface\",\"Human-Wildlife Interface\",\"Human-Wildlife Interface\"],\"legendgroup\":\"\",\"locationmode\":\"country names\",\"locations\":[\"Australia\",\"Brazil\",\"Canada\",\"England\",\"Ethiopia\",\"France\",\"Germany\",\"Greece\",\"India\",\"Indonesia\",\"Iran\",\"Italy\",\"Norway\",\"Peoples R China\",\"Portugal\",\"Scotland\",\"Switzerland\",\"Taiwan\",\"USA\"],\"marker\":{\"color\":\"#636efa\",\"size\":[7,1,3,5,2,1,2,2,2,1,1,1,1,10,1,1,1,1,12],\"sizemode\":\"area\",\"sizeref\":0.1625,\"symbol\":\"circle\"},\"mode\":\"markers\",\"name\":\"\",\"showlegend\":false,\"type\":\"scattergeo\"}],\"name\":\"Human-Wildlife Interface\"},{\"data\":[{\"geo\":\"geo\",\"hovertemplate\":\"<b>%{hovertext}</b><br><br>Dominant_Topic=Local Knowledge, Communities<br>count=%{marker.size}<br>Country=%{location}<extra></extra>\",\"hovertext\":[\"Australia\",\"Brazil\",\"Canada\",\"Chile\",\"Czech Republic\",\"Denmark\",\"England\",\"Finland\",\"France\",\"Germany\",\"Ghana\",\"Hungary\",\"India\",\"Indonesia\",\"Japan\",\"Malaysia\",\"Mexico\",\"Netherlands\",\"New Zealand\",\"Norway\",\"Peoples R China\",\"Poland\",\"Scotland\",\"Switzerland\",\"USA\",\"Zimbabwe\"],\"ids\":[\"Local Knowledge, Communities\",\"Local Knowledge, Communities\",\"Local Knowledge, Communities\",\"Local Knowledge, Communities\",\"Local Knowledge, Communities\",\"Local Knowledge, Communities\",\"Local Knowledge, Communities\",\"Local Knowledge, Communities\",\"Local Knowledge, Communities\",\"Local Knowledge, Communities\",\"Local Knowledge, Communities\",\"Local Knowledge, Communities\",\"Local Knowledge, Communities\",\"Local Knowledge, Communities\",\"Local Knowledge, Communities\",\"Local Knowledge, Communities\",\"Local Knowledge, Communities\",\"Local Knowledge, Communities\",\"Local Knowledge, Communities\",\"Local Knowledge, Communities\",\"Local Knowledge, Communities\",\"Local Knowledge, Communities\",\"Local Knowledge, Communities\",\"Local Knowledge, Communities\",\"Local Knowledge, Communities\",\"Local Knowledge, Communities\"],\"legendgroup\":\"\",\"locationmode\":\"country names\",\"locations\":[\"Australia\",\"Brazil\",\"Canada\",\"Chile\",\"Czech Republic\",\"Denmark\",\"England\",\"Finland\",\"France\",\"Germany\",\"Ghana\",\"Hungary\",\"India\",\"Indonesia\",\"Japan\",\"Malaysia\",\"Mexico\",\"Netherlands\",\"New Zealand\",\"Norway\",\"Peoples R China\",\"Poland\",\"Scotland\",\"Switzerland\",\"USA\",\"Zimbabwe\"],\"marker\":{\"color\":\"#636efa\",\"size\":[4,3,6,2,1,1,4,2,1,2,1,1,2,1,2,1,1,3,1,2,6,1,2,2,21,1],\"sizemode\":\"area\",\"sizeref\":0.1625,\"symbol\":\"circle\"},\"mode\":\"markers\",\"name\":\"\",\"showlegend\":false,\"type\":\"scattergeo\"}],\"name\":\"Local Knowledge, Communities\"}]);\n",
       "                        }).then(function(){\n",
       "                            \n",
       "var gd = document.getElementById('bf9f6a73-2235-4645-8573-d7d79833b5cf');\n",
       "var x = new MutationObserver(function (mutations, observer) {{\n",
       "        var display = window.getComputedStyle(gd).display;\n",
       "        if (!display || display === 'none') {{\n",
       "            console.log([gd, 'removed!']);\n",
       "            Plotly.purge(gd);\n",
       "            observer.disconnect();\n",
       "        }}\n",
       "}});\n",
       "\n",
       "// Listen for the removal of the full notebook cells\n",
       "var notebookContainer = gd.closest('#notebook-container');\n",
       "if (notebookContainer) {{\n",
       "    x.observe(notebookContainer, {childList: true});\n",
       "}}\n",
       "\n",
       "// Listen for the clearing of the current output cell\n",
       "var outputEl = gd.closest('.output');\n",
       "if (outputEl) {{\n",
       "    x.observe(outputEl, {childList: true});\n",
       "}}\n",
       "\n",
       "                        })                };                });            </script>        </div>"
      ]
     },
     "metadata": {},
     "output_type": "display_data"
    }
   ],
   "source": [
    "#The goal of this map is to toggle between model topics and see where articles assigned to the topic are published\n",
    "\n",
    "import plotly.express as px\n",
    "#df = px.dataframe.gapminder()\n",
    "fig = px.scatter_geo(topic_count_by_country, locations='Country',locationmode='country names', #color='Country',\n",
    "                     hover_name='Country', size='count', animation_group='Dominant_Topic',animation_frame='Dominant_Topic',\n",
    "                    title='Dominant Topics by Country')\n",
    "                   \n",
    "fig.show()"
   ]
  },
  {
   "cell_type": "code",
   "execution_count": 127,
   "metadata": {},
   "outputs": [],
   "source": [
    "#Saving\n",
    "fig.write_html(\"Draft_Topics_By_Country_2.html\")"
   ]
  }
 ],
 "metadata": {
  "kernelspec": {
   "display_name": "Python 3",
   "language": "python",
   "name": "python3"
  },
  "language_info": {
   "codemirror_mode": {
    "name": "ipython",
    "version": 3
   },
   "file_extension": ".py",
   "mimetype": "text/x-python",
   "name": "python",
   "nbconvert_exporter": "python",
   "pygments_lexer": "ipython3",
   "version": "3.7.6"
  }
 },
 "nbformat": 4,
 "nbformat_minor": 4
}
